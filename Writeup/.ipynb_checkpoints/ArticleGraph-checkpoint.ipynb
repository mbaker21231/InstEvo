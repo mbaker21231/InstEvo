{
 "cells": [
  {
   "cell_type": "markdown",
   "metadata": {
    "collapsed": true
   },
   "source": [
    "# Tree Example\n",
    "\n",
    "The code below just renders a tree for use as an example. Here we are going to make a very simple phylogenetic tree and plot for use with our example. "
   ]
  },
  {
   "cell_type": "code",
   "execution_count": 13,
   "metadata": {
    "collapsed": false
   },
   "outputs": [],
   "source": [
    "import os\n",
    "import numpy as np\n",
    "import matplotlib.pyplot as plt\n",
    "import matplotlib\n",
    "\n",
    "from mpl_toolkits.mplot3d import Axes3D\n",
    "from matplotlib import cm\n",
    "from matplotlib.ticker import LinearLocator, FormatStrFormatter\n"
   ]
  },
  {
   "cell_type": "code",
   "execution_count": 14,
   "metadata": {
    "collapsed": false
   },
   "outputs": [],
   "source": [
    "currentDir = os.getcwd()\n",
    "try:\n",
    "    os.chdir('C:\\\\Users\\\\mjbaker\\\\Documents\\\\github\\\\instevo')\n",
    "except:\n",
    "    os.chdir('C:\\\\Users\\\\Matthew Baker\\\\Documents\\\\github\\\\instevo')\n",
    "import PyIETools\n",
    "os.chdir(currentDir)"
   ]
  },
  {
   "cell_type": "code",
   "execution_count": 15,
   "metadata": {
    "collapsed": false
   },
   "outputs": [],
   "source": [
    "Tree=np.array([1,1,1,1,1,1,2,2,2,2,1,2,3,3,3,1,2,3,4,4,1,2,3,4,5])"
   ]
  },
  {
   "cell_type": "code",
   "execution_count": 16,
   "metadata": {
    "collapsed": false
   },
   "outputs": [],
   "source": [
    "Tree=(np.reshape(Tree,(5,5)))"
   ]
  },
  {
   "cell_type": "code",
   "execution_count": 17,
   "metadata": {
    "collapsed": false
   },
   "outputs": [],
   "source": [
    "interiorbranches=PyIETools.branchcount(Tree)-np.shape(Tree)[0]"
   ]
  },
  {
   "cell_type": "code",
   "execution_count": 18,
   "metadata": {
    "collapsed": false
   },
   "outputs": [],
   "source": [
    "b=[-1,-1,-1,-1]"
   ]
  },
  {
   "cell_type": "code",
   "execution_count": 19,
   "metadata": {
    "collapsed": false
   },
   "outputs": [
    {
     "name": "stderr",
     "output_type": "stream",
     "text": [
      "C:\\Users\\mjbaker\\AppData\\Local\\Continuum\\Miniconda3\\lib\\site-packages\\matplotlib\\text.py:2046: UserWarning: You have used the `textcoords` kwarg, but not the `xytext` kwarg.  This can lead to surprising results.\n",
      "  warnings.warn(\"You have used the `textcoords` kwarg, but not \"\n"
     ]
    }
   ],
   "source": [
    "TFR=PyIETools.timeFractions(Tree,np.matrix(b),fill=True)*5\n",
    "Num = np.matrix(np.arange(0, PyIETools.rows(Tree))).T\n",
    "names = np.array(['A','B','C','D','E'])\n",
    "\n",
    "minPos = PyIETools.J(PyIETools.rows(Tree), PyIETools.cols(Tree), np.nan)\n",
    "maxPos = PyIETools.J(PyIETools.rows(Tree), PyIETools.cols(Tree), np.nan)\n",
    "avePos = PyIETools.J(PyIETools.rows(Tree), PyIETools.cols(Tree), np.nan)\n",
    "            \n",
    "# Roll through the tree and positions point and lines accordingly.\n",
    "\n",
    "for i in range(0, PyIETools.cols(Tree)):\n",
    "    m=PyIETools.ps(Tree, i)\n",
    "    for j in range(0, PyIETools.rows(m)):\n",
    "        bracketed = PyIETools.psm(Num, m, j)\n",
    "        lowest = min(bracketed)\n",
    "        highest = max(bracketed)\n",
    "        minPos[m[j,0]:m[j,1]+1,i:i+1] = PyIETools.J(1 + m[j,1] - m[j,0], 1, lowest)\n",
    "        maxPos[m[j,0]:m[j,1]+1,i:i+1] = PyIETools.J(1 + m[j,1] - m[j,0], 1, highest)\n",
    "        average = np.mean(bracketed)\n",
    "        avePos[m[j,0]:m[j,1]+1,i:i+1] = PyIETools.J(1 + m[j,1] - m[j,0], 1, average)\n",
    "# Block of code to to compile tree running sums. \n",
    "            \n",
    "runningsum = np.copy(TFR[:,0:1])\n",
    "for i in range(1,PyIETools.cols(TFR)):\n",
    "    runningsum=np.hstack((runningsum, np.copy(np.matrix(np.nansum(TFR[:,:i+1],axis=1)).T)))\n",
    "        \n",
    "        # Reorganize the numbers so that the x-axis is the depth of the tree\n",
    "            \n",
    "depth = np.max(runningsum)\n",
    "runningsum = runningsum - depth\n",
    "\n",
    "        # Plot the root of the tree...\n",
    "\n",
    "begin = [-depth,-depth + TFR[0,0]]\n",
    "end   = [(PyIETools.rows(TFR) - 1)/2,(PyIETools.rows(TFR) - 1)/2]\n",
    "plt.plot(begin, end)\n",
    "plt.annotate('t0', xy = ( (begin[0]+(begin[1]-begin[0])/2),(end[0]+(end[1]-end[0])/2) ) )\n",
    "\n",
    "count = 1\n",
    "coverdlist = []\n",
    "for c in range(0, PyIETools.cols(TFR) - 1):\n",
    "    for r in range(0, PyIETools.rows(Tree)):\n",
    "        y = [avePos[r,c], avePos[r,c+1]]\n",
    "        x = [runningsum[r,c], runningsum[r,c+1]]\n",
    "        plt.plot(x, y)\n",
    "        apoint = x[0]+(x[1]-x[0])/2, y[0]+(y[1]-y[0])/2        \n",
    "        if (x[0] != x[1]) and apoint not in coverdlist:\n",
    "            text = 't' + str(count)\n",
    "            count += 1\n",
    "            plt.annotate(text, xy=apoint, textcoords = \"offset points\")\n",
    "            coverdlist.append(apoint)\n",
    "\n",
    "plt.axis([-depth - 1,np.max(runningsum) + 1.5,-1,PyIETools.rows(Tree) + 1],yticks='none')\n",
    "     \n",
    "Names = list(names)        \n",
    "for n in range(0, len(Names)):\n",
    "    plt.annotate(Names[n][0], xy = (runningsum[n,-1] + .2, n))  \n",
    "\n",
    "plt.axis('off')\n",
    "plt.show()\n"
   ]
  },
  {
   "cell_type": "code",
   "execution_count": 20,
   "metadata": {
    "collapsed": false
   },
   "outputs": [],
   "source": [
    "# Here is a sample locational plot of the groups. \n",
    "\n",
    "x=[3,3.1,3.6,4,4]\n",
    "y=[3.66,2.9,3.6,3.2,4]\n",
    "name=['A','B','C','D','E']\n",
    "\n",
    "# Shrink factor - \n",
    "\n",
    "sf = 3.5\n",
    "\n",
    "dx=[]\n",
    "dy=[]\n",
    "zx=[]\n",
    "zy=[]\n",
    "\n",
    "for i in range(0,len(x)-1):\n",
    "    Dx = x[i+1] - x[i]\n",
    "    Dy = y[i+1] - y[i]\n",
    "    \n",
    "    zx.append(x[i] + Dx/sf)\n",
    "    zy.append(y[i] + Dy/sf)\n",
    "    \n",
    "    dx.append(Dx/sf)\n",
    "    dy.append(Dy/sf)\n",
    "\n",
    "s=[100,80,60,40,20]\n",
    "\n",
    "myfig = plt.figure()                 # The figure is a figure\n",
    "mypic = myfig.add_subplot(111)       # mypic is a subplot added to the figure\n",
    "mypic.axis('off')                    # turns subplot axes off\n",
    "\n",
    "mypic.scatter(x, y, c=s, s=2500, cmap=\"Reds\")  #makes the subplot a scatterplot\n",
    "\n",
    "# Not working...a better approach might be to handle this differently.\n",
    "for i, txt in enumerate(name):\n",
    "    mypic.annotate(name[i], (x[i],y[i]))     #annotates the figure\n",
    "\n",
    "for i in range(0,len(x)-1):\n",
    "    mypic.arrow(zx[i], zy[i], dx[i], dy[i], fc=\"k\", ec=\"k\", head_width=0.05, head_length=0.1)\n",
    "    \n",
    "plt.show()"
   ]
  },
  {
   "cell_type": "code",
   "execution_count": null,
   "metadata": {
    "collapsed": false
   },
   "outputs": [],
   "source": [
    "# Let's try a side-by-side plot... \n",
    "\n",
    "x=[3,3.1,3.6,4,4]\n",
    "y=[3.66,2.9,3.6,3.2,4]\n",
    "name=['A','B','C','D','E']\n",
    "\n",
    "# Shrink factor - \n",
    "\n",
    "sf = 3.5\n",
    "\n",
    "dx=[]\n",
    "dy=[]\n",
    "zx=[]\n",
    "zy=[]\n",
    "\n",
    "for i in range(0,len(x)-1):\n",
    "    Dx = x[i+1] - x[i]\n",
    "    Dy = y[i+1] - y[i]\n",
    "    \n",
    "    zx.append(x[i] + Dx/sf)\n",
    "    zy.append(y[i] + Dy/sf)\n",
    "    \n",
    "    dx.append(Dx/sf)\n",
    "    dy.append(Dy/sf)\n",
    "\n",
    "s=[100,80,60,40,20]\n",
    "\n",
    "myfig = plt.figure()                 # The figure is a figure\n",
    "mypic = myfig.add_subplot(121, aspect='equal')       # mypic is a subplot added to the figure\n",
    "mypic.axis('off')                    # turns subplot axes off\n",
    "\n",
    "mypic.scatter(x, y, c=s, s=1500, cmap=\"Reds\")  #makes the subplot a scatterplot\n",
    "\n",
    "# Not working...a better approach might be to handle this differently.\n",
    "for i, txt in enumerate(name):\n",
    "    mypic.annotate(name[i], (x[i],y[i]))     #annotates the figure\n",
    "\n",
    "for i in range(0,len(x)-1):\n",
    "    mypic.arrow(zx[i], zy[i], dx[i], dy[i], fc=\"k\", ec=\"k\", head_width=0.05, head_length=0.1)\n",
    "    \n",
    "# Here is a sample locational plot of the groups. \n",
    "\n",
    "x=[3,3.1,3.6,4,4]\n",
    "y=[3.66,2.9,3.6,3.2,4]\n",
    "name=['A','B','C','D','E']\n",
    "\n",
    "# Shrink factor - \n",
    "\n",
    "sf = 3.5\n",
    "\n",
    "# Arrows have to be done manually for second example:\n",
    "\n",
    "dx=[(x[0]-x[2])/sf,(x[1]-x[2])/sf,(x[3]-x[2])/sf,(x[4]-x[3])/sf]\n",
    "dy=[(y[0]-y[2])/sf,(y[1]-y[2])/sf,(y[3]-y[2])/sf,(y[4]-y[3])/sf ]\n",
    "zx=[x[2] + (x[0]-x[2])/sf,x[2] + (x[1]-x[2])/sf,x[2] + (x[3]-x[2])/sf,x[3] + (x[4]-x[3])/sf]\n",
    "zy=[y[2] + (y[0]-y[2])/sf,y[2] + (y[1]-y[2])/sf,y[2] + (y[3]-y[2])/sf,y[3] + (y[4]-y[3])/sf]\n",
    "\n",
    "s=[100,80,60,40,20]\n",
    "\n",
    "mypic2 = myfig.add_subplot(122, aspect='equal')       # mypic is a subplot added to the figure\n",
    "mypic2.axis('off')                    # turns subplot axes off\n",
    "\n",
    "mypic2.scatter(x, y, c=s, s=1500, cmap=\"Reds\")  #makes the subplot a scatterplot\n",
    "\n",
    "# Not working...a better approach might be to handle this differently.\n",
    "for i, txt in enumerate(name):\n",
    "    mypic2.annotate(name[i], (x[i],y[i]))     #annotates the figure\n",
    "\n",
    "for i in range(0,len(x)-1):\n",
    "    mypic2.arrow(zx[i], zy[i], dx[i], dy[i], fc=\"k\", ec=\"k\", head_width=0.05, head_length=0.1)\n",
    "\n",
    "myfig.suptitle('Two Hypothetical Migratory Routes', fontsize=16)\n",
    "mypic.set_title('A is point of origin')\n",
    "mypic2.set_title('C is point of origin')\n",
    "\n",
    "plt.show()\n",
    "\n",
    "plt.close()"
   ]
  },
  {
   "cell_type": "code",
   "execution_count": null,
   "metadata": {
    "collapsed": false
   },
   "outputs": [],
   "source": [
    "fig = plt.figure()\n",
    "ax = fig.gca(projection='3d')\n",
    "X = np.arange(0.1,1, 0.1)\n",
    "Y = np.arange(0.1,1, 0.1)\n",
    "X, Y = np.meshgrid(X, Y)\n",
    "Z = 3*np.log(4)+np.log((1-X)*(1-X*(1-Y)))\n",
    "surf = ax.plot_surface(X, Y, Z, rstride = 21, cstride = 21, cmap = cm.coolwarm, linewidth = 0)\n",
    "ax.set_zlim(-1.01, 1.01)\n",
    "\n",
    "ax.zaxis.set_major_locator(LinearLocator(10))\n",
    "ax.zaxis.set_major_formatter(FormatStrFormatter('%.02f'))\n",
    "\n",
    "fig.colorbar(surf, shrink=0.5, aspect=5)\n",
    "\n",
    "plt.show()"
   ]
  },
  {
   "cell_type": "code",
   "execution_count": null,
   "metadata": {
    "collapsed": true
   },
   "outputs": [],
   "source": []
  }
 ],
 "metadata": {
  "kernelspec": {
   "display_name": "Python 3",
   "language": "python",
   "name": "python3"
  },
  "language_info": {
   "codemirror_mode": {
    "name": "ipython",
    "version": 3
   },
   "file_extension": ".py",
   "mimetype": "text/x-python",
   "name": "python",
   "nbconvert_exporter": "python",
   "pygments_lexer": "ipython3",
   "version": "3.5.1"
  }
 },
 "nbformat": 4,
 "nbformat_minor": 0
}
