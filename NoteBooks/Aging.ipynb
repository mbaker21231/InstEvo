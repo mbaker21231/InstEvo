{
 "cells": [
  {
   "cell_type": "markdown",
   "metadata": {},
   "source": [
    "# Aging and culture\n",
    "\n",
    "Here I am revisiting the idea that Joyce and I had that never seemed to go anywhere. Anyways, we start with the following:"
   ]
  },
  {
   "cell_type": "code",
   "execution_count": 1,
   "metadata": {},
   "outputs": [],
   "source": [
    "from sympy import *\n",
    "init_printing()"
   ]
  },
  {
   "cell_type": "markdown",
   "metadata": {},
   "source": [
    "We start with a model in which there are middle-aged and old agents. Old agents do nothing but sell a cultural good, which I initially take to be fixed at unity. Lifetime utility is:\n",
    "\n",
    "$$\n",
    "V_t = \\ln\\left[(y_t-p_tc_t-s_t-\\overline{u})^\\alpha(c_t-\\overline{v})^{1-\\alpha}\\right]+\\beta \\ln \\left[s_t(1+r_{t+1})+p_{t+1}c_{t+1}\\right]  \n",
    "$$\n",
    "\n",
    "To find the optimal level of cultural consumption, we can take the derivative of the above with respect to $c_t$ and equate supply and demand. Here goes:"
   ]
  },
  {
   "cell_type": "code",
   "execution_count": 47,
   "metadata": {},
   "outputs": [],
   "source": [
    "y, p, c, s, alpha, beta, delta, R, P, C = symbols('y p c s alpha beta delta R P C')"
   ]
  },
  {
   "cell_type": "code",
   "execution_count": 48,
   "metadata": {},
   "outputs": [],
   "source": [
    "V = alpha*log(y-p*c-s) + beta*log(c) + delta * ln(s*(1+R) + P*C)"
   ]
  },
  {
   "cell_type": "code",
   "execution_count": 49,
   "metadata": {},
   "outputs": [
    {
     "data": {
      "image/png": "[encoded data removed]",
      "text/latex": [
       "$$\\frac{\\beta \\left(- s + y\\right)}{p \\left(\\alpha + \\beta\\right)}$$"
      ],
      "text/plain": [
       "β⋅(-s + y)\n",
       "──────────\n",
       "p⋅(α + β) "
      ]
     },
     "execution_count": 49,
     "metadata": {},
     "output_type": "execute_result"
    }
   ],
   "source": [
    "foc = diff(V,c)\n",
    "csta = solve(foc, c)[0]\n",
    "simplify(csta)"
   ]
  },
  {
   "cell_type": "markdown",
   "metadata": {},
   "source": [
    "So the above is the demand for culture by the current middle-aged generation. Since there is one unit of supply, we can actually equate the above to get the current equilibrium price of culture:"
   ]
  },
  {
   "cell_type": "code",
   "execution_count": 51,
   "metadata": {},
   "outputs": [
    {
     "data": {
      "image/png": "[encoded data removed]",
      "text/latex": [
       "$$\\left [ \\frac{\\beta \\left(- s + y\\right)}{\\alpha + \\beta}\\right ]$$"
      ],
      "text/plain": [
       "⎡β⋅(-s + y)⎤\n",
       "⎢──────────⎥\n",
       "⎣  α + β   ⎦"
      ]
     },
     "execution_count": 51,
     "metadata": {},
     "output_type": "execute_result"
    }
   ],
   "source": [
    "eqcond = 1 - csta\n",
    "psta = solve(eqcond, p)\n",
    "simplify(psta)"
   ]
  },
  {
   "cell_type": "code",
   "execution_count": 52,
   "metadata": {},
   "outputs": [],
   "source": [
    "Vrf = V.subs({c:1, p:psta[0]}).simplify()"
   ]
  },
  {
   "cell_type": "code",
   "execution_count": 53,
   "metadata": {},
   "outputs": [
    {
     "data": {
      "image/png": "[encoded data removed]",
      "text/latex": [
       "$$\\alpha \\log{\\left (\\frac{\\alpha \\left(- s + y\\right)}{\\alpha + \\beta} \\right )} + \\delta \\log{\\left (C P + R s + s \\right )}$$"
      ],
      "text/plain": [
       "     ⎛α⋅(-s + y)⎞                       \n",
       "α⋅log⎜──────────⎟ + δ⋅log(C⋅P + R⋅s + s)\n",
       "     ⎝  α + β   ⎠                       "
      ]
     },
     "execution_count": 53,
     "metadata": {},
     "output_type": "execute_result"
    }
   ],
   "source": [
    "Vrf"
   ]
  },
  {
   "cell_type": "code",
   "execution_count": null,
   "metadata": {},
   "outputs": [],
   "source": []
  }
 ],
 "metadata": {
  "kernelspec": {
   "display_name": "Python 3",
   "language": "python",
   "name": "python3"
  },
  "language_info": {
   "codemirror_mode": {
    "name": "ipython",
    "version": 3
   },
   "file_extension": ".py",
   "mimetype": "text/x-python",
   "name": "python",
   "nbconvert_exporter": "python",
   "pygments_lexer": "ipython3",
   "version": "3.6.6"
  }
 },
 "nbformat": 4,
 "nbformat_minor": 2
}
