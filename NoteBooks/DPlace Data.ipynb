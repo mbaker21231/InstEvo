{
 "cells": [
  {
   "cell_type": "markdown",
   "id": "bb5d9110",
   "metadata": {},
   "source": [
    "# Using Data from D-Place\n",
    "\n",
    "Right as I wrote the above, it occurred to me that it would be really useful if we could make things work with the D-place data as it is written. In any event, let's read it in (we downloaded it as well), and get rolling with it..."
   ]
  },
  {
   "cell_type": "code",
   "execution_count": 7,
   "id": "4fd38017",
   "metadata": {},
   "outputs": [],
   "source": [
    "import numpy   as np\n",
    "import os      as os\n",
    "import pathlib as pathlib\n",
    "import pandas  as pd"
   ]
  },
  {
   "cell_type": "code",
   "execution_count": 8,
   "id": "0519879a",
   "metadata": {},
   "outputs": [],
   "source": [
    "start_dir = os.getcwd()\n",
    "python_dir = pathlib.Path(os.getcwd()).parts[:-1] + ('Python',)\n",
    "os.chdir(pathlib.Path(*python_dir))\n",
    "\n",
    "import PyInstEvo\n",
    "\n",
    "os.chdir(start_dir)\n",
    "os.chdir('..')\n",
    "\n",
    "pd.set_option('display.width', 1000)\n",
    "np.set_printoptions(linewidth=120)"
   ]
  },
  {
   "cell_type": "markdown",
   "id": "d08848c8",
   "metadata": {},
   "source": [
    "My Data is as follows:"
   ]
  },
  {
   "cell_type": "code",
   "execution_count": 20,
   "id": "49f852e8",
   "metadata": {},
   "outputs": [],
   "source": [
    "MyData = pd.read_stata(os.getcwd() + '\\\\IEData\\\\words_4_useMerged.dta')"
   ]
  },
  {
   "cell_type": "code",
   "execution_count": 21,
   "id": "1015f8fb",
   "metadata": {},
   "outputs": [
    {
     "name": "stdout",
     "output_type": "stream",
     "text": [
      "name trimFlag ruhlen_1 ruhlen_2 ruhlen_3 lat1 lon1 eaName wordCount trimFlag2 lat lon eaNumber ethno_1 ethno_2 ethno_3 ethno_4 ethno_5 ethno_6 ethno_7 ethno_8 ethno_9 ethno_10 ethno_11 ethno_12 ethno_13 ethno_14 ruhlen_4 ruhlen_5 ruhlen_6 ruhlen_7 ruhlen_8 ruhlen_9 ruhlen_10 ruhlen_11 ruhlen_12 ruhlen_13 ruhlen_14 ruhlen_15 ruhlen_16 lang_no word1 word2 word3 word4 word5 word6 word7 word8 word9 word10 word11 word12 word13 word14 word15 word16 word17 word18 word19 word20 word21 word22 word23 word24 word25 word26 word27 word28 word29 word30 word31 word32 word33 word34 word35 word36 word37 word38 word39 word40 word41 word42 word43 word44 word45 word46 word47 word48 word49 word50 word51 word52 word53 word54 word55 word56 word57 word58 word59 word60 word61 word62 word63 word64 word65 word66 word67 word68 word69 word70 word71 word72 word73 word74 word75 word76 word77 word78 word79 word80 word81 word82 word83 word84 word85 word86 word87 word88 word89 word90 word91 word92 word93 word94 word95 word96 word97 word98 word99 word100 family genus stats ex_date speakers isocode walscode ruhlen oldMerge name2 maxWordCount nameCount second placeCount dupFlag alive deathTime extant conf poo shoo fudge moo notes matched eaLat eaLon vlangphyl v104 v106 vruhlen1 vruhlen2 vruhlen3 vruhlen4 vruhlen5 vruhlen6 vruhlen7 vruhlen8 vruhlen9 vruhlen10 vruhlen11 vruhlen12 vruhlen13 vruhlen14 vruhlen15 v112 v113 v114 v102 v1 v2 v3 v4 v5 v6 v8 v9 v10 v11 v12 v13 v28 v29 v30 v31 v32 v33 v34 v35 v39 v40 v41 v42 v43 v44 v45 v46 v47 v48 v49 v50 v51 v52 v53 v54 v55 v56 v57 v58 v59 v60 v61 v62 v63 v64 v65 v66 v67 v68 v69 v70 v71 v72 v73 v74 v75 v76 v77 v78 v90 v91 v92 v93 v95 v96 v97 v98 v99 vclimate1 vclimate2 v1000 vmet vweave vpot vtechcomp langnotes _merge "
     ]
    }
   ],
   "source": [
    "for col in MyData.columns:\n",
    "    print(col, end=' ')"
   ]
  },
  {
   "cell_type": "markdown",
   "id": "dafba265",
   "metadata": {},
   "source": [
    "# D-Place Data\n",
    "\n",
    "Here is the D-Place Data:"
   ]
  },
  {
   "cell_type": "code",
   "execution_count": 68,
   "id": "7104dd9e",
   "metadata": {},
   "outputs": [],
   "source": [
    "dp = pd.read_csv(r'C:\\Users\\mjbaker\\OneDrive - CUNY\\Documents\\github\\InstEvo\\IEData\\DplaceEAData.csv', delimiter=',')"
   ]
  },
  {
   "cell_type": "code",
   "execution_count": 69,
   "id": "20f97f57",
   "metadata": {},
   "outputs": [],
   "source": [
    "DP_actual = dp[['soc_id', 'sub_case', 'year']]"
   ]
  },
  {
   "cell_type": "code",
   "execution_count": 70,
   "id": "7454ea71",
   "metadata": {},
   "outputs": [],
   "source": [
    "DP_actual = dp[['soc_id', 'sub_case', 'year', 'code']].loc[dp['var_id'] == 'EA001']"
   ]
  },
  {
   "cell_type": "code",
   "execution_count": 71,
   "id": "93f44e89",
   "metadata": {},
   "outputs": [],
   "source": [
    "DP_actual.rename(columns={'code':'EA001'}, inplace=True)"
   ]
  },
  {
   "cell_type": "code",
   "execution_count": 72,
   "id": "26e2b75e",
   "metadata": {},
   "outputs": [
    {
     "data": {
      "text/html": [
       "<div>\n",
       "<style scoped>\n",
       "    .dataframe tbody tr th:only-of-type {\n",
       "        vertical-align: middle;\n",
       "    }\n",
       "\n",
       "    .dataframe tbody tr th {\n",
       "        vertical-align: top;\n",
       "    }\n",
       "\n",
       "    .dataframe thead th {\n",
       "        text-align: right;\n",
       "    }\n",
       "</style>\n",
       "<table border=\"1\" class=\"dataframe\">\n",
       "  <thead>\n",
       "    <tr style=\"text-align: right;\">\n",
       "      <th></th>\n",
       "      <th>soc_id</th>\n",
       "      <th>sub_case</th>\n",
       "      <th>year</th>\n",
       "      <th>EA001</th>\n",
       "    </tr>\n",
       "  </thead>\n",
       "  <tbody>\n",
       "    <tr>\n",
       "      <th>0</th>\n",
       "      <td>Aa1</td>\n",
       "      <td>Nyai Nyae region</td>\n",
       "      <td>1950.0</td>\n",
       "      <td>8.0</td>\n",
       "    </tr>\n",
       "    <tr>\n",
       "      <th>1</th>\n",
       "      <td>Aa2</td>\n",
       "      <td>with special reference to Central Dorobo</td>\n",
       "      <td>1920.0</td>\n",
       "      <td>4.0</td>\n",
       "    </tr>\n",
       "    <tr>\n",
       "      <th>2</th>\n",
       "      <td>Aa3</td>\n",
       "      <td>Gei/Khauan tribe</td>\n",
       "      <td>1840.0</td>\n",
       "      <td>1.0</td>\n",
       "    </tr>\n",
       "    <tr>\n",
       "      <th>3</th>\n",
       "      <td>Aa4</td>\n",
       "      <td>NaN</td>\n",
       "      <td>1920.0</td>\n",
       "      <td>4.0</td>\n",
       "    </tr>\n",
       "    <tr>\n",
       "      <th>4</th>\n",
       "      <td>Aa5</td>\n",
       "      <td>Epulu net-hunters, Ituri forest</td>\n",
       "      <td>1930.0</td>\n",
       "      <td>3.0</td>\n",
       "    </tr>\n",
       "  </tbody>\n",
       "</table>\n",
       "</div>"
      ],
      "text/plain": [
       "  soc_id                                  sub_case    year  EA001\n",
       "0    Aa1                          Nyai Nyae region  1950.0    8.0\n",
       "1    Aa2  with special reference to Central Dorobo  1920.0    4.0\n",
       "2    Aa3                          Gei/Khauan tribe  1840.0    1.0\n",
       "3    Aa4                                       NaN  1920.0    4.0\n",
       "4    Aa5           Epulu net-hunters, Ituri forest  1930.0    3.0"
      ]
     },
     "execution_count": 72,
     "metadata": {},
     "output_type": "execute_result"
    }
   ],
   "source": [
    "DP_actual.head()"
   ]
  },
  {
   "cell_type": "code",
   "execution_count": 83,
   "id": "f7218437",
   "metadata": {},
   "outputs": [],
   "source": [
    "nameset = list(set(dp['var_id']))"
   ]
  },
  {
   "cell_type": "code",
   "execution_count": 84,
   "id": "4801a0bb",
   "metadata": {},
   "outputs": [],
   "source": [
    "foo = nameset.sort()"
   ]
  },
  {
   "cell_type": "code",
   "execution_count": 85,
   "id": "9b74094f",
   "metadata": {},
   "outputs": [],
   "source": [
    "nameset"
   ]
  },
  {
   "cell_type": "code",
   "execution_count": 74,
   "id": "88966baa",
   "metadata": {},
   "outputs": [],
   "source": [
    "for i in np.arange(1, len(nameset)):\n",
    "    tm = dp[['soc_id', 'code']].loc[dp['var_id'] == nameset[i]]\n",
    "    DP_actual = pd.merge(DP_actual, tm, on='soc_id')\n",
    "    DP_actual.rename(columns={'code':nameset[i]}, inplace=True)"
   ]
  },
  {
   "cell_type": "code",
   "execution_count": 75,
   "id": "85406db3",
   "metadata": {},
   "outputs": [
    {
     "data": {
      "text/plain": [
       "Index(['soc_id', 'sub_case', 'year', 'EA001', 'EA046', 'EA058', 'EA077', 'EA083', 'EA015', 'EA001', 'EA028', 'EA040', 'EA201', 'EA002', 'EA048', 'EA007', 'EA018', 'EA011', 'EA020', 'EA090', 'EA021', 'EA078', 'EA017', 'EA202', 'EA035', 'EA087', 'EA054', 'EA006', 'EA112', 'EA059', 'EA009', 'EA085', 'EA070', 'EA047', 'EA072', 'EA086', 'EA033', 'EA088', 'EA071', 'EA075', 'EA067', 'EA008', 'EA080', 'EA031', 'EA081', 'EA016', 'EA060', 'EA029', 'EA004', 'EA056', 'EA079', 'EA052', 'EA044', 'EA014', 'EA019', 'EA037', 'EA030', 'EA025', 'EA053', 'EA023', 'EA022', 'EA065', 'EA094', 'EA073', 'EA027', 'EA041', 'EA082', 'EA057', 'EA061', 'EA045', 'EA026', 'EA084', 'EA043', 'EA005', 'EA069', 'EA051', 'EA063', 'EA010', 'EA038', 'EA066', 'EA050', 'EA012', 'EA024', 'EA068', 'EA034', 'EA055', 'EA036', 'EA003', 'EA076', 'EA113', 'EA064', 'EA049', 'EA032', 'EA039', 'EA074', 'EA062', 'EA042'], dtype='object')"
      ]
     },
     "execution_count": 75,
     "metadata": {},
     "output_type": "execute_result"
    }
   ],
   "source": [
    "DP_actual.columns"
   ]
  },
  {
   "cell_type": "code",
   "execution_count": 78,
   "id": "5d4f7785",
   "metadata": {},
   "outputs": [
    {
     "data": {
      "text/html": [
       "<div>\n",
       "<style scoped>\n",
       "    .dataframe tbody tr th:only-of-type {\n",
       "        vertical-align: middle;\n",
       "    }\n",
       "\n",
       "    .dataframe tbody tr th {\n",
       "        vertical-align: top;\n",
       "    }\n",
       "\n",
       "    .dataframe thead th {\n",
       "        text-align: right;\n",
       "    }\n",
       "</style>\n",
       "<table border=\"1\" class=\"dataframe\">\n",
       "  <thead>\n",
       "    <tr style=\"text-align: right;\">\n",
       "      <th></th>\n",
       "      <th>soc_id</th>\n",
       "      <th>sub_case</th>\n",
       "      <th>year</th>\n",
       "      <th>EA001</th>\n",
       "      <th>EA046</th>\n",
       "      <th>EA058</th>\n",
       "      <th>EA077</th>\n",
       "      <th>EA083</th>\n",
       "      <th>EA015</th>\n",
       "      <th>EA001</th>\n",
       "      <th>...</th>\n",
       "      <th>EA003</th>\n",
       "      <th>EA076</th>\n",
       "      <th>EA113</th>\n",
       "      <th>EA064</th>\n",
       "      <th>EA049</th>\n",
       "      <th>EA032</th>\n",
       "      <th>EA039</th>\n",
       "      <th>EA074</th>\n",
       "      <th>EA062</th>\n",
       "      <th>EA042</th>\n",
       "    </tr>\n",
       "  </thead>\n",
       "  <tbody>\n",
       "    <tr>\n",
       "      <th>0</th>\n",
       "      <td>Aa1</td>\n",
       "      <td>Nyai Nyae region</td>\n",
       "      <td>1950.0</td>\n",
       "      <td>8.0</td>\n",
       "      <td>1.0</td>\n",
       "      <td>10.0</td>\n",
       "      <td>9.0</td>\n",
       "      <td>8.0</td>\n",
       "      <td>4.0</td>\n",
       "      <td>8.0</td>\n",
       "      <td>...</td>\n",
       "      <td>0.0</td>\n",
       "      <td>1.0</td>\n",
       "      <td>2.0</td>\n",
       "      <td>10.0</td>\n",
       "      <td>6.0</td>\n",
       "      <td>3.0</td>\n",
       "      <td>1.0</td>\n",
       "      <td>1.0</td>\n",
       "      <td>9.0</td>\n",
       "      <td>1.0</td>\n",
       "    </tr>\n",
       "    <tr>\n",
       "      <th>1</th>\n",
       "      <td>Aa2</td>\n",
       "      <td>with special reference to Central Dorobo</td>\n",
       "      <td>1920.0</td>\n",
       "      <td>4.0</td>\n",
       "      <td>6.0</td>\n",
       "      <td>10.0</td>\n",
       "      <td>1.0</td>\n",
       "      <td>8.0</td>\n",
       "      <td>6.0</td>\n",
       "      <td>4.0</td>\n",
       "      <td>...</td>\n",
       "      <td>0.0</td>\n",
       "      <td>5.0</td>\n",
       "      <td>NaN</td>\n",
       "      <td>10.0</td>\n",
       "      <td>6.0</td>\n",
       "      <td>2.0</td>\n",
       "      <td>1.0</td>\n",
       "      <td>7.0</td>\n",
       "      <td>9.0</td>\n",
       "      <td>3.0</td>\n",
       "    </tr>\n",
       "    <tr>\n",
       "      <th>2</th>\n",
       "      <td>Aa3</td>\n",
       "      <td>Gei/Khauan tribe</td>\n",
       "      <td>1840.0</td>\n",
       "      <td>1.0</td>\n",
       "      <td>5.0</td>\n",
       "      <td>9.0</td>\n",
       "      <td>4.0</td>\n",
       "      <td>7.0</td>\n",
       "      <td>6.0</td>\n",
       "      <td>1.0</td>\n",
       "      <td>...</td>\n",
       "      <td>1.0</td>\n",
       "      <td>7.0</td>\n",
       "      <td>NaN</td>\n",
       "      <td>9.0</td>\n",
       "      <td>3.0</td>\n",
       "      <td>2.0</td>\n",
       "      <td>1.0</td>\n",
       "      <td>1.0</td>\n",
       "      <td>9.0</td>\n",
       "      <td>4.0</td>\n",
       "    </tr>\n",
       "    <tr>\n",
       "      <th>3</th>\n",
       "      <td>Aa4</td>\n",
       "      <td>NaN</td>\n",
       "      <td>1920.0</td>\n",
       "      <td>4.0</td>\n",
       "      <td>NaN</td>\n",
       "      <td>NaN</td>\n",
       "      <td>1.0</td>\n",
       "      <td>8.0</td>\n",
       "      <td>4.0</td>\n",
       "      <td>4.0</td>\n",
       "      <td>...</td>\n",
       "      <td>1.0</td>\n",
       "      <td>7.0</td>\n",
       "      <td>NaN</td>\n",
       "      <td>NaN</td>\n",
       "      <td>NaN</td>\n",
       "      <td>NaN</td>\n",
       "      <td>NaN</td>\n",
       "      <td>1.0</td>\n",
       "      <td>NaN</td>\n",
       "      <td>1.0</td>\n",
       "    </tr>\n",
       "    <tr>\n",
       "      <th>4</th>\n",
       "      <td>Aa5</td>\n",
       "      <td>Epulu net-hunters, Ituri forest</td>\n",
       "      <td>1930.0</td>\n",
       "      <td>3.0</td>\n",
       "      <td>9.0</td>\n",
       "      <td>10.0</td>\n",
       "      <td>NaN</td>\n",
       "      <td>8.0</td>\n",
       "      <td>4.0</td>\n",
       "      <td>3.0</td>\n",
       "      <td>...</td>\n",
       "      <td>0.0</td>\n",
       "      <td>7.0</td>\n",
       "      <td>2.0</td>\n",
       "      <td>10.0</td>\n",
       "      <td>6.0</td>\n",
       "      <td>2.0</td>\n",
       "      <td>1.0</td>\n",
       "      <td>1.0</td>\n",
       "      <td>9.0</td>\n",
       "      <td>3.0</td>\n",
       "    </tr>\n",
       "  </tbody>\n",
       "</table>\n",
       "<p>5 rows × 97 columns</p>\n",
       "</div>"
      ],
      "text/plain": [
       "  soc_id                                  sub_case    year  EA001  EA046  EA058  EA077  EA083  EA015  EA001  ...  EA003  EA076  EA113  EA064  EA049  EA032  EA039  EA074  EA062  EA042\n",
       "0    Aa1                          Nyai Nyae region  1950.0    8.0    1.0   10.0    9.0    8.0    4.0    8.0  ...    0.0    1.0    2.0   10.0    6.0    3.0    1.0    1.0    9.0    1.0\n",
       "1    Aa2  with special reference to Central Dorobo  1920.0    4.0    6.0   10.0    1.0    8.0    6.0    4.0  ...    0.0    5.0    NaN   10.0    6.0    2.0    1.0    7.0    9.0    3.0\n",
       "2    Aa3                          Gei/Khauan tribe  1840.0    1.0    5.0    9.0    4.0    7.0    6.0    1.0  ...    1.0    7.0    NaN    9.0    3.0    2.0    1.0    1.0    9.0    4.0\n",
       "3    Aa4                                       NaN  1920.0    4.0    NaN    NaN    1.0    8.0    4.0    4.0  ...    1.0    7.0    NaN    NaN    NaN    NaN    NaN    1.0    NaN    1.0\n",
       "4    Aa5           Epulu net-hunters, Ituri forest  1930.0    3.0    9.0   10.0    NaN    8.0    4.0    3.0  ...    0.0    7.0    2.0   10.0    6.0    2.0    1.0    1.0    9.0    3.0\n",
       "\n",
       "[5 rows x 97 columns]"
      ]
     },
     "execution_count": 78,
     "metadata": {},
     "output_type": "execute_result"
    }
   ],
   "source": [
    "DP_actual.head()"
   ]
  },
  {
   "cell_type": "code",
   "execution_count": 40,
   "id": "f588c356",
   "metadata": {},
   "outputs": [
    {
     "data": {
      "text/plain": [
       "soc_id                                                            ec21\n",
       "sub_case                                               Hor River group\n",
       "year                                                            1890.0\n",
       "var_id                                                           EA001\n",
       "code                                                               2.0\n",
       "comment                                                            NaN\n",
       "references           arsenev1926- girfanova2000- ivashchenko1989- k...\n",
       "source_coded_data                      Ethnology_Vol43_No1_Winter_2004\n",
       "admin_comment                                                      NaN\n",
       "Name: 1290, dtype: object"
      ]
     },
     "execution_count": 40,
     "metadata": {},
     "output_type": "execute_result"
    }
   ],
   "source": [
    "dp.iloc[1290,:]"
   ]
  },
  {
   "cell_type": "code",
   "execution_count": null,
   "id": "690f1d6c",
   "metadata": {},
   "outputs": [],
   "source": []
  }
 ],
 "metadata": {
  "kernelspec": {
   "display_name": "Python 3 (ipykernel)",
   "language": "python",
   "name": "python3"
  },
  "language_info": {
   "codemirror_mode": {
    "name": "ipython",
    "version": 3
   },
   "file_extension": ".py",
   "mimetype": "text/x-python",
   "name": "python",
   "nbconvert_exporter": "python",
   "pygments_lexer": "ipython3",
   "version": "3.8.12"
  }
 },
 "nbformat": 4,
 "nbformat_minor": 5
}
