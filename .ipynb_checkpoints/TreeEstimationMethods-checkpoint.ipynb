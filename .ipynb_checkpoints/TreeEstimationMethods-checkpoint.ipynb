{
 "cells": [
  {
   "cell_type": "markdown",
   "metadata": {},
   "source": [
    "# Estimating and Drawing Distributions over Trees\n",
    "\n",
    "In this notebook I am hoping to delineate how one might recover distributions over all resolutions of a tree, and all possible parameter values of a tree, given:\n",
    "\n",
    "1. Prior information on splits \n",
    "2. Dates of moribundity\n",
    "2. Locations and paths through locations\n",
    "3. Transitions among Dogolpolsky classes\n",
    "\n",
    "As it happens, we have a series of class methods - and in one case a stand-alone method which takes a parameterized tree as an argument - to calculate likelihood. While I have rolled this likelihood into `PyIETools`, an example of it appears here, which shows how the likelihood is calculated over trees. \n",
    "\n",
    "In the future, it might be desirable to rewrite the class methods as stand-alone functions. This is because one can more easily compile code written in this way using the `Numba` package. Ultimately, one might then be able to turn off the Python Global Interpreter Lock (GIL) so the four components of likelihood can be computed at the same time. \n",
    "\n",
    "A big part of this is experimental - fumbling around until a reliable method for estimating trees can be found. In the end, I am hoping to implement estimation across a bunch of linguistic stocks in parallel, we will hopefully have some stylistic improvements to offer. \n",
    "\n",
    "## Likelihood given parameters, tree structure\n",
    "\n",
    "Suppose we have decided on a resolution of our tree into a bifurcating tree so that all splits between groups are pairwise. Given this, we can calculate the likelihood of the tree using something like the following `mlfun_ex` function (Once again after the usual job of importing all of our modules)\n",
    "\n"
   ]
  },
  {
   "cell_type": "code",
   "execution_count": 1,
   "metadata": {
    "collapsed": false
   },
   "outputs": [],
   "source": [
    "# My modules\n",
    "\n",
    "#import PyIEClasses\n",
    "#mport PyIETools\n",
    "\n",
    "import PyInstEvo\n",
    "\n",
    "import numpy as np\n",
    "import os\n",
    "import pandas as pd\n",
    "import matplotlib\n",
    "import matplotlib.pyplot as plt\n",
    "import copy\n",
    "\n",
    "%matplotlib inline\n",
    "matplotlib.rcParams['figure.figsize'] = (10.0, 8.0)"
   ]
  },
  {
   "cell_type": "code",
   "execution_count": 2,
   "metadata": {
    "collapsed": true
   },
   "outputs": [],
   "source": [
    "def mlfun_ex(x, Obj):\n",
    "    '''Take a language tree object, set the parameters, unpack them\n",
    "       and then calculate the entire likelihood'''\n",
    "\n",
    "    Obj.parameters = np.matrix(x)\n",
    "    Obj.unpack()\n",
    "    Obj.settimes()\n",
    "    L1=-Obj.SplitLikelihood()\n",
    "    L2=-Obj.jukescantorlikelihood()\n",
    "    L3=-Obj.DeathLikelihood()\n",
    "    L4=-np.max(Obj.OriginLikelihood())\n",
    "    return -L1-L2-L3-L4"
   ]
  },
  {
   "cell_type": "markdown",
   "metadata": {},
   "source": [
    "In the above, `mlfun_ex()` is a replica of the function `mlfun()` which appears in the `PyIETools` module and also has a counterpart in the `ParameterizedTree` class of the `PyIEClasses` module. \n",
    "\n",
    "What it does is takes a parameter vector $x$, which I think of as a row vector. This is an old habit from my experience programming in Stata, and one must maintain some conventions! It also takes a parameterized tree `Obj`, assigns the parameters to the Tree, unpacks them so that branch, word, moribundity, and prior parameters match up, and then progressively calculates the likelihood of the linguistic splits implied by the tree given our prior information, the likelihood of observing the current distribution of Dogopolsky classes across words given the transition-rate parameters and data, the likelihood of moribundity dates given prior information, and then the likelihood of migration emanating from the most likely point in the model. \n",
    "\n",
    "Note that the last is calculated by choosing the best possible location and using its likelihood. Typically, because the last component of likelihood takes a long time to compute, we make it into a stand-alone method and pre-compile it with `Numba` as one can see by inspecting `PyInstEvo`. "
   ]
  },
  {
   "cell_type": "markdown",
   "metadata": {
    "collapsed": true
   },
   "source": [
    "## (Internal) Estimation Method - MCMC\n",
    "\n",
    "Now that we have parameters and a tree, we can calculate its likelihood. I have hit upon estimating this using Markov-Chain Monte Carlo mainly because it saves time and actually creates a simulated parameter distribution without having to explicitly maximize anything. The idea is to just pick parameters randomly and keep ones that increase the likelihood more frequently. \n",
    "\n",
    "To this end, I have written two useful routines which live in `PyInstEvo`:\n",
    "\n",
    "1. `myMcMcsampler_global` - draws from the parameter distribution using a global sampler, as described in Baker (2015). \n",
    "2. `myMcMcsampler_mwg`    - draws from the parameter distribution using a Metropolis-within-Gibbs sampler, also describd in Baker (2015). This means that it draws parameters sequentially, conditional on all other parameters. \n",
    "\n",
    "In my experience, the second sampler can get close to the maximal likelihood value quite quickly, but takes a long time as it has to draw each parameter individually and recalculate the likelihood every time it does this. The first sampler is much faster, but struggles if the process isn't well-tuned. So, what I like to do is run the second sampler for awhile, and then switch over to the first. \n",
    "\n",
    "Once we get this working, we can switch over to a method that also involves search across different tree structures. "
   ]
  },
  {
   "cell_type": "markdown",
   "metadata": {},
   "source": [
    "## An Example - Na-Dene\n",
    "\n",
    "We will start by pulling in an example and estimating the distribution of parameters conditional on a particular, random resolution of the tree. Let's pick on the Na Dene language group. Once again, we just run this block of code to get an initial guess of the parameters that is of the right dimension. Here are the pickle files already arranged to work with Python."
   ]
  },
  {
   "cell_type": "code",
   "execution_count": 3,
   "metadata": {
    "collapsed": false
   },
   "outputs": [],
   "source": [
    "Data   = pd.read_pickle(os.getcwd() + '//IEData//MasterData.pkl')\n",
    "Splits = pd.read_pickle(os.getcwd() + '//IEData//Splits.pkl')\n",
    "Depths = pd.read_pickle(os.getcwd() + '//IEData//Depths.pkl')"
   ]
  },
  {
   "cell_type": "code",
   "execution_count": 4,
   "metadata": {
    "collapsed": false
   },
   "outputs": [
    {
     "name": "stderr",
     "output_type": "stream",
     "text": [
      "C:\\Users\\mjbaker\\Documents\\GitHub\\InstEvo\\PyInstEvo.py:293: RuntimeWarning: invalid value encountered in less_equal\n",
      "  ind=np.where((F[:,i:i+1] <= 1) == False)[0]   # This line and the next one edit nans to previous value.\n"
     ]
    }
   ],
   "source": [
    "NaDeneRT    = PyInstEvo.ResolvedTree(Data.loc[Data['ruhlen_1']=='NADENE'],'NTree1')\n",
    "numbranches = NaDeneRT.interiorbranches\n",
    "bInit       = np.matrix(-1-np.linspace(0,10,num=numbranches)/numbranches)\n",
    "rInit=np.zeros((1,len(NaDeneRT.words)))\n",
    "dparms=np.sum(NaDeneRT.deathmat[:,0]==0)\n",
    "dInit=np.zeros((1,dparms))+1\n",
    "eInit=np.matrix(5)\n",
    "parmsInit=np.hstack((bInit,rInit,dInit,eInit))"
   ]
  },
  {
   "cell_type": "code",
   "execution_count": 5,
   "metadata": {
    "collapsed": false
   },
   "outputs": [
    {
     "name": "stderr",
     "output_type": "stream",
     "text": [
      "C:\\Users\\mjbaker\\Documents\\GitHub\\InstEvo\\PyInstEvo.py:293: RuntimeWarning: invalid value encountered in less_equal\n",
      "  ind=np.where((F[:,i:i+1] <= 1) == False)[0]   # This line and the next one edit nans to previous value.\n"
     ]
    }
   ],
   "source": [
    "NaDenePT=PyInstEvo.ParameterizedTree(Data.loc[Data['ruhlen_1']=='NADENE'], 'NTree1', parmsInit)"
   ]
  },
  {
   "cell_type": "code",
   "execution_count": 6,
   "metadata": {
    "collapsed": false
   },
   "outputs": [
    {
     "name": "stderr",
     "output_type": "stream",
     "text": [
      "C:\\Users\\mjbaker\\Documents\\GitHub\\InstEvo\\PyInstEvo.py:293: RuntimeWarning: invalid value encountered in less_equal\n",
      "  ind=np.where((F[:,i:i+1] <= 1) == False)[0]   # This line and the next one edit nans to previous value.\n"
     ]
    }
   ],
   "source": [
    "min = np.array(Depths['min'].loc[Depths['phylum'] == 'NaDene'])\n",
    "max = np.array(Depths['max'].loc[Depths['phylum'] == 'NaDene'])\n",
    "NaDenePT.priordepth(min[0], max[0])\n",
    "NaDenePT.splitinfo(Splits[Splits['phylum'] == 'NaDene'])\n",
    "\n",
    "NaDenePT.settimes()"
   ]
  },
  {
   "cell_type": "code",
   "execution_count": 7,
   "metadata": {
    "collapsed": false
   },
   "outputs": [
    {
     "data": {
      "image/png": "[encoded data removed]",
      "text/plain": [
       "<matplotlib.figure.Figure at 0xaa63668>"
      ]
     },
     "metadata": {},
     "output_type": "display_data"
    }
   ],
   "source": [
    "# Just a verification check...to make sure everything is there. \n",
    "%matplotlib inline\n",
    "NaDenePT.showtree()"
   ]
  },
  {
   "cell_type": "markdown",
   "metadata": {},
   "source": [
    "Just a check to make sure the data is there!"
   ]
  },
  {
   "cell_type": "code",
   "execution_count": 8,
   "metadata": {
    "collapsed": false
   },
   "outputs": [
    {
     "data": {
      "text/html": [
       "<div>\n",
       "<table border=\"1\" class=\"dataframe\">\n",
       "  <thead>\n",
       "    <tr style=\"text-align: right;\">\n",
       "      <th></th>\n",
       "      <th>word1</th>\n",
       "      <th>word2</th>\n",
       "      <th>word3</th>\n",
       "    </tr>\n",
       "  </thead>\n",
       "  <tbody>\n",
       "    <tr>\n",
       "      <th>1660</th>\n",
       "      <td>Ei</td>\n",
       "      <td>yu</td>\n",
       "      <td>wi</td>\n",
       "    </tr>\n",
       "  </tbody>\n",
       "</table>\n",
       "</div>"
      ],
      "text/plain": [
       "     word1 word2 word3\n",
       "1660    Ei    yu    wi"
      ]
     },
     "execution_count": 8,
     "metadata": {},
     "output_type": "execute_result"
    }
   ],
   "source": [
    "Data[['word1','word2','word3']].loc[Data['name'] == 'ENGLISH']"
   ]
  },
  {
   "cell_type": "markdown",
   "metadata": {},
   "source": [
    "We will now give estimation of the parameters conditional on tree structure a try just to see if it is working correctly. We will start with the `mwg` version of our MCMC sampler and see how that goes, and see what can be gleaned from it, and then move on to the global sampler. We need to give our sampler an initial variance-covariance matrix, but over time the sampler will adapt this so as to hit the target rate (second to last argument)"
   ]
  },
  {
   "cell_type": "code",
   "execution_count": 9,
   "metadata": {
    "collapsed": false
   },
   "outputs": [
    {
     "name": "stderr",
     "output_type": "stream",
     "text": [
      "C:\\Users\\mjbaker\\Documents\\GitHub\\InstEvo\\PyInstEvo.py:293: RuntimeWarning: invalid value encountered in less_equal\n",
      "  ind=np.where((F[:,i:i+1] <= 1) == False)[0]   # This line and the next one edit nans to previous value.\n",
      "C:\\Users\\mjbaker\\AppData\\Local\\Continuum\\Anaconda3\\lib\\site-packages\\numpy\\core\\fromnumeric.py:224: VisibleDeprecationWarning: using a non-integer number instead of an integer will result in an error in the future\n",
      "  return reshape(newshape, order=order)\n",
      " 33%|███████████████████████████████████████▉                                                                                 | 33/100 [03:43<07:38,  6.84s/it]C:\\Users\\mjbaker\\Documents\\GitHub\\InstEvo\\PyInstEvo.py:1346: RuntimeWarning: divide by zero encountered in log\n",
      "  S = np.log(S)\n",
      " 39%|███████████████████████████████████████████████▏                                                                         | 39/100 [04:25<06:57,  6.84s/it]C:\\Users\\mjbaker\\Documents\\GitHub\\InstEvo\\PyInstEvo.py:1366: RuntimeWarning: invalid value encountered in subtract\n",
      "  S = rowmax + np.log(np.dot(np.exp(S - rowmax), np.ones((10, 1))))\n",
      "C:\\Users\\mjbaker\\Documents\\GitHub\\InstEvo\\PyInstEvo.py:936: RuntimeWarning: invalid value encountered in greater\n",
      "  elif pro > old:\n",
      " 52%|██████████████████████████████████████████████████████████████▉                                                          | 52/100 [05:52<05:16,  6.60s/it]C:\\Users\\mjbaker\\Documents\\GitHub\\InstEvo\\PyInstEvo.py:1272: RuntimeWarning: overflow encountered in exp\n",
      "  self.rates = np.exp(self.rparms)\n",
      " 70%|████████████████████████████████████████████████████████████████████████████████████▋                                    | 70/100 [07:53<03:35,  7.20s/it]C:\\Users\\mjbaker\\Documents\\GitHub\\InstEvo\\PyInstEvo.py:1283: RuntimeWarning: overflow encountered in exp\n",
      "  self.depth = np.exp(midd)/(1 + np.exp(midd))*mind + 1/(1 + np.exp(midd))*maxd\n",
      "C:\\Users\\mjbaker\\Documents\\GitHub\\InstEvo\\PyInstEvo.py:1283: RuntimeWarning: invalid value encountered in double_scalars\n",
      "  self.depth = np.exp(midd)/(1 + np.exp(midd))*mind + 1/(1 + np.exp(midd))*maxd\n",
      "C:\\Users\\mjbaker\\AppData\\Local\\Continuum\\Anaconda3\\lib\\site-packages\\scipy\\stats\\_distn_infrastructure.py:872: RuntimeWarning: invalid value encountered in greater_equal\n",
      "  return (self.a <= x) & (x <= self.b)\n",
      "C:\\Users\\mjbaker\\AppData\\Local\\Continuum\\Anaconda3\\lib\\site-packages\\scipy\\stats\\_distn_infrastructure.py:872: RuntimeWarning: invalid value encountered in less_equal\n",
      "  return (self.a <= x) & (x <= self.b)\n",
      "C:\\Users\\mjbaker\\Documents\\GitHub\\InstEvo\\PyInstEvo.py:1474: RuntimeWarning: divide by zero encountered in log\n",
      "  maxFinder[n]=maxFinder[n] + IndCountHat[posni[n]]*(np.log(IndCountHat[posni[n]]) - np.log(toAdd[n])) + LLHat[posni[n]]\n",
      "C:\\Users\\mjbaker\\Documents\\GitHub\\InstEvo\\PyInstEvo.py:1484: RuntimeWarning: divide by zero encountered in log\n",
      "  LL[tu[p]] = LL[tu[p]] + IndCount[tu[p]]*(np.log(IndCount[tu[p]]) - np.log(TM[tu[p]])) + LLHat[p]\n",
      "100%|████████████████████████████████████████████████████████████████████████████████████████████████████████████████████████| 100/100 [11:25<00:00,  6.50s/it]\n"
     ]
    }
   ],
   "source": [
    "VInit=np.eye((np.shape(parmsInit)[1]))\n",
    "x, y, z = PyInstEvo.myMcMcSampler_mwg(PyInstEvo.mlfun, np.matrix(parmsInit), VInit, 100, 10, .5, .28, NaDenePT)"
   ]
  },
  {
   "cell_type": "markdown",
   "metadata": {},
   "source": [
    "We can now examine some of the results to see how it is going...z denotes acceptances, y denotes values of the objective function, and x is a list of the actual draws. First, we see that the function rises rapidly towards what seems like a steady point, and then flattens out:"
   ]
  },
  {
   "cell_type": "code",
   "execution_count": 10,
   "metadata": {
    "collapsed": false
   },
   "outputs": [
    {
     "data": {
      "text/plain": [
       "[<matplotlib.lines.Line2D at 0xbd23518>]"
      ]
     },
     "execution_count": 10,
     "metadata": {},
     "output_type": "execute_result"
    },
    {
     "data": {
      "image/png": "[encoded data removed]",
      "text/plain": [
       "<matplotlib.figure.Figure at 0xbc25f60>"
      ]
     },
     "metadata": {},
     "output_type": "display_data"
    }
   ],
   "source": [
    "plt.plot(np.array(y).flatten())"
   ]
  },
  {
   "cell_type": "markdown",
   "metadata": {},
   "source": [
    "What does it look like after this point? It looks like it is jiggling around more or less randomly, which is a good thing, suggesting convergence:"
   ]
  },
  {
   "cell_type": "code",
   "execution_count": 11,
   "metadata": {
    "collapsed": false
   },
   "outputs": [
    {
     "data": {
      "text/plain": [
       "[<matplotlib.lines.Line2D at 0xbd90358>]"
      ]
     },
     "execution_count": 11,
     "metadata": {},
     "output_type": "execute_result"
    },
    {
     "data": {
      "image/png": "[encoded data removed]",
      "text/plain": [
       "<matplotlib.figure.Figure at 0xbd445c0>"
      ]
     },
     "metadata": {},
     "output_type": "display_data"
    }
   ],
   "source": [
    "plt.plot(np.array(y).flatten()[50:])"
   ]
  },
  {
   "cell_type": "markdown",
   "metadata": {},
   "source": [
    "Accordingly, let's now set up a **big global sampler** from this particular tree. We will use the mean and variance of the draws that we have to set this up. It is also useful, however, to have a means of checking whether this matrix is positive definite. I wrote the routine (in `PyIETools`) `is_pos_def` with this in mind. It simply checks to see if all the eigenvalues of the covariance matrix are positive. If it is not, I have written a method - `make_pos_def` that makes the matrix positive definite. All that does is adds a small constant to the diagonal until the positive definiteness test is passed. "
   ]
  },
  {
   "cell_type": "code",
   "execution_count": 12,
   "metadata": {
    "collapsed": false
   },
   "outputs": [],
   "source": [
    "X = np.reshape(x,(100,-1))"
   ]
  },
  {
   "cell_type": "code",
   "execution_count": 13,
   "metadata": {
    "collapsed": false
   },
   "outputs": [
    {
     "name": "stdout",
     "output_type": "stream",
     "text": [
      "True\n"
     ]
    }
   ],
   "source": [
    "xNew=np.matrix(np.average(X[20:], axis=0))\n",
    "vNew=np.cov(X[20:].T)\n",
    "print(PyInstEvo.is_pos_def(vNew))"
   ]
  },
  {
   "cell_type": "markdown",
   "metadata": {},
   "source": [
    "Now, we can run the global sampler..."
   ]
  },
  {
   "cell_type": "code",
   "execution_count": 14,
   "metadata": {
    "collapsed": false
   },
   "outputs": [
    {
     "name": "stderr",
     "output_type": "stream",
     "text": [
      "C:\\Users\\mjbaker\\Documents\\GitHub\\InstEvo\\PyInstEvo.py:293: RuntimeWarning: invalid value encountered in less_equal\n",
      "  ind=np.where((F[:,i:i+1] <= 1) == False)[0]   # This line and the next one edit nans to previous value.\n",
      "C:\\Users\\mjbaker\\AppData\\Local\\Continuum\\Anaconda3\\lib\\site-packages\\numpy\\core\\fromnumeric.py:224: VisibleDeprecationWarning: using a non-integer number instead of an integer will result in an error in the future\n",
      "  return reshape(newshape, order=order)\n",
      "C:\\Users\\mjbaker\\Documents\\GitHub\\InstEvo\\PyInstEvo.py:1346: RuntimeWarning: divide by zero encountered in log\n",
      "  S = np.log(S)\n",
      "  0%|                                                                                                                                | 0/10000 [00:00<?, ?it/s]C:\\Users\\mjbaker\\Documents\\GitHub\\InstEvo\\PyInstEvo.py:1366: RuntimeWarning: invalid value encountered in subtract\n",
      "  S = rowmax + np.log(np.dot(np.exp(S - rowmax), np.ones((10, 1))))\n",
      "C:\\Users\\mjbaker\\Documents\\GitHub\\InstEvo\\PyInstEvo.py:980: RuntimeWarning: invalid value encountered in greater\n",
      "  elif pro > old:\n",
      "C:\\Users\\mjbaker\\Documents\\GitHub\\InstEvo\\PyInstEvo.py:985: RuntimeWarning: invalid value encountered in greater\n",
      "  if np.random.uniform(0,1) < alpha:\n",
      "100%|████████████████████████████████████████████████████████████████████████████████████████████████████████████████████| 10000/10000 [19:31<00:00,  8.72it/s]\n"
     ]
    }
   ],
   "source": [
    "x, y, z = PyInstEvo.myMcMcSampler_global(PyInstEvo.mlfun, xNew, vNew, 10000, 1000, .85, .24, NaDenePT)"
   ]
  },
  {
   "cell_type": "markdown",
   "metadata": {},
   "source": [
    "Let's look at how the overall value of the function varies over time:"
   ]
  },
  {
   "cell_type": "code",
   "execution_count": 17,
   "metadata": {
    "collapsed": false
   },
   "outputs": [],
   "source": [
    "Y=np.array(y).flatten()"
   ]
  },
  {
   "cell_type": "markdown",
   "metadata": {},
   "source": [
    "We see that the values leap up to a stable value and stay around there...Let's make some subplots to telescope in on how this function is behaving:"
   ]
  },
  {
   "cell_type": "code",
   "execution_count": 18,
   "metadata": {
    "collapsed": false
   },
   "outputs": [
    {
     "data": {
      "text/plain": [
       "[<matplotlib.lines.Line2D at 0xb7353c8>]"
      ]
     },
     "execution_count": 18,
     "metadata": {},
     "output_type": "execute_result"
    },
    {
     "data": {
      "image/png": "[encoded data removed]",
      "text/plain": [
       "<matplotlib.figure.Figure at 0xaa10320>"
      ]
     },
     "metadata": {},
     "output_type": "display_data"
    }
   ],
   "source": [
    "plt.plot(Y)"
   ]
  },
  {
   "cell_type": "code",
   "execution_count": 19,
   "metadata": {
    "collapsed": false
   },
   "outputs": [
    {
     "data": {
      "image/png": "[encoded data removed]",
      "text/plain": [
       "<matplotlib.figure.Figure at 0xbf5cc18>"
      ]
     },
     "metadata": {},
     "output_type": "display_data"
    }
   ],
   "source": [
    "f, ((ax1, ax2), (ax3, ax4)) = plt.subplots(2, 2)\n",
    "ax1.plot(Y)\n",
    "ax1.set_title('Full Series', y=1.2)\n",
    "ax2.plot(Y[5000:])\n",
    "ax2.set_title('Last 5000', y=1.2)\n",
    "ax3.plot(Y[8000:])\n",
    "ax3.set_title('Last 2000', y=1.2)\n",
    "ax4.plot(Y[9500:])\n",
    "ax4.set_title('Last 500', y=1.2)\n",
    "f.subplots_adjust(wspace=1, hspace=1)\n"
   ]
  },
  {
   "cell_type": "markdown",
   "metadata": {},
   "source": [
    "Let's also take a look at acceptance rates. These are returned in the container for **`z`**, and we want a running sum. "
   ]
  },
  {
   "cell_type": "code",
   "execution_count": 20,
   "metadata": {
    "collapsed": false
   },
   "outputs": [],
   "source": [
    "movingARate1=[np.sum(z[:N])/len((z[:N])) for N in range(1,10000)]"
   ]
  },
  {
   "cell_type": "code",
   "execution_count": 21,
   "metadata": {
    "collapsed": true
   },
   "outputs": [],
   "source": [
    "movingARate2=[np.sum(z[N-100:N])/100 for N in range(101,10000)]"
   ]
  },
  {
   "cell_type": "code",
   "execution_count": 22,
   "metadata": {
    "collapsed": false
   },
   "outputs": [
    {
     "data": {
      "text/plain": [
       "[<matplotlib.lines.Line2D at 0xbb467b8>]"
      ]
     },
     "execution_count": 22,
     "metadata": {},
     "output_type": "execute_result"
    },
    {
     "data": {
      "image/png": "[encoded data removed]",
      "text/plain": [
       "<matplotlib.figure.Figure at 0xbb45cf8>"
      ]
     },
     "metadata": {},
     "output_type": "display_data"
    }
   ],
   "source": [
    "plt.plot(movingARate2)\n",
    "plt.plot(movingARate1)"
   ]
  },
  {
   "cell_type": "markdown",
   "metadata": {},
   "source": [
    "So we see how the tuning and acceptance rates are gravitating. They look like they are more or less converging to the desired acceptance rate of .2. "
   ]
  },
  {
   "cell_type": "code",
   "execution_count": 23,
   "metadata": {
    "collapsed": false
   },
   "outputs": [],
   "source": [
    "xEst=np.reshape(x,(10000,-1))\n",
    "xEst=np.average(xEst[9000:,:],axis=0)"
   ]
  },
  {
   "cell_type": "code",
   "execution_count": 24,
   "metadata": {
    "collapsed": false
   },
   "outputs": [
    {
     "data": {
      "image/png": "[encoded data removed]",
      "text/plain": [
       "<matplotlib.figure.Figure at 0xb8b2a20>"
      ]
     },
     "metadata": {},
     "output_type": "display_data"
    }
   ],
   "source": [
    "NaDenePT.parameters=np.matrix(xEst)\n",
    "NaDenePT.unpack()\n",
    "NaDenePT.showtree()"
   ]
  },
  {
   "cell_type": "markdown",
   "metadata": {},
   "source": [
    "The model seems to support the more or less simultaneous split among a large group of peoples. But there is also no attempt in the above to actually \"puzzle\" the tree to get the right set of splits. "
   ]
  },
  {
   "cell_type": "markdown",
   "metadata": {},
   "source": [
    "## (Outer) Estimation Method - Puzzling and MCMC\n",
    "\n",
    "So now that we have a technique for running MCMC on a given tree, let's talk about how to find a best tree, or how we can introduce this into the algorithm. One thing we might do is start with a puzzling algorithm that mixes the tree around a bit for a fixed set of parameters, or maybe just makes a set of changes to the parameters that involves just one tweak from a set. To this end, we have written a function in `PyIETools` called puzzler, which randomly resolves the tree and checks the value of its likelihood, retaining values that have higher likelihood. The function works more or less as one might expect, and simply requires passing along a phylum name, along with basic data about depth and some parameters.\n",
    "\n",
    "** But note: I'm not quite certain the puzzler works exactly correctly **"
   ]
  },
  {
   "cell_type": "code",
   "execution_count": null,
   "metadata": {
    "collapsed": false
   },
   "outputs": [
    {
     "name": "stderr",
     "output_type": "stream",
     "text": [
      "C:\\Users\\mjbaker\\Documents\\GitHub\\InstEvo\\PyInstEvo.py:293: RuntimeWarning: invalid value encountered in less_equal\n",
      "  ind=np.where((F[:,i:i+1] <= 1) == False)[0]   # This line and the next one edit nans to previous value.\n",
      "C:\\Users\\mjbaker\\Documents\\GitHub\\InstEvo\\PyInstEvo.py:1039: FutureWarning: elementwise comparison failed; returning scalar instead, but in the future will perform elementwise comparison\n",
      "  if parameters=='None':\n",
      "C:\\Users\\mjbaker\\AppData\\Local\\Continuum\\Anaconda3\\lib\\site-packages\\numpy\\core\\fromnumeric.py:224: VisibleDeprecationWarning: using a non-integer number instead of an integer will result in an error in the future\n",
      "  return reshape(newshape, order=order)\n"
     ]
    },
    {
     "name": "stdout",
     "output_type": "stream",
     "text": [
      "New Tree Found at  0 :  [[-2874.47211395]]\n"
     ]
    }
   ],
   "source": [
    "StartTree=PyInstEvo.puzzler(Data,Splits,\"NADENE\",\"NaDene\",100,min[0],max[0],parmsInit)"
   ]
  },
  {
   "cell_type": "markdown",
   "metadata": {},
   "source": [
    "The following fleshes out a comprehensive estimation method, given everything else in the tree. "
   ]
  },
  {
   "cell_type": "code",
   "execution_count": 24,
   "metadata": {
    "collapsed": false
   },
   "outputs": [
    {
     "name": "stderr",
     "output_type": "stream",
     "text": [
      "/home/mjbaker/anaconda3/lib/python3.5/site-packages/numpy/core/fromnumeric.py:225: VisibleDeprecationWarning: using a non-integer number instead of an integer will result in an error in the future\n",
      "  return reshape(newshape, order=order)\n",
      "  0%|          | 0/10 [00:00<?, ?it/s]"
     ]
    },
    {
     "name": "stdout",
     "output_type": "stream",
     "text": [
      "0\n"
     ]
    },
    {
     "name": "stderr",
     "output_type": "stream",
     "text": [
      "100%|██████████| 10/10 [00:39<00:00,  4.02s/it]\n",
      "  0%|          | 0/10 [00:00<?, ?it/s]"
     ]
    },
    {
     "name": "stdout",
     "output_type": "stream",
     "text": [
      "new tree!\n",
      "Current log-likelihood:  [[-1436.51287906]]\n",
      "1\n"
     ]
    },
    {
     "name": "stderr",
     "output_type": "stream",
     "text": [
      "100%|██████████| 10/10 [00:40<00:00,  4.05s/it]\n",
      "  0%|          | 0/10 [00:00<?, ?it/s]"
     ]
    },
    {
     "name": "stdout",
     "output_type": "stream",
     "text": [
      "new tree!\n",
      "Current log-likelihood:  [[-1314.96935276]]\n",
      "2\n"
     ]
    },
    {
     "name": "stderr",
     "output_type": "stream",
     "text": [
      "100%|██████████| 10/10 [00:40<00:00,  4.00s/it]\n",
      "100%|██████████| 10/10 [00:39<00:00,  4.00s/it]\n",
      "  0%|          | 0/10 [00:00<?, ?it/s]"
     ]
    },
    {
     "name": "stdout",
     "output_type": "stream",
     "text": [
      "Current log-likelihood:  [[-1308.35911444]]\n",
      "3\n"
     ]
    },
    {
     "name": "stderr",
     "output_type": "stream",
     "text": [
      "100%|██████████| 10/10 [00:39<00:00,  3.95s/it]\n",
      "100%|██████████| 10/10 [00:39<00:00,  3.93s/it]\n",
      "  0%|          | 0/10 [00:00<?, ?it/s]"
     ]
    },
    {
     "name": "stdout",
     "output_type": "stream",
     "text": [
      "Current log-likelihood:  [[-1300.42976546]]\n",
      "4\n"
     ]
    },
    {
     "name": "stderr",
     "output_type": "stream",
     "text": [
      "100%|██████████| 10/10 [00:39<00:00,  3.93s/it]\n",
      "100%|██████████| 10/10 [00:39<00:00,  3.93s/it]\n",
      "  0%|          | 0/10 [00:00<?, ?it/s]"
     ]
    },
    {
     "name": "stdout",
     "output_type": "stream",
     "text": [
      "Current log-likelihood:  [[-1327.06757954]]\n",
      "5\n"
     ]
    },
    {
     "name": "stderr",
     "output_type": "stream",
     "text": [
      "100%|██████████| 10/10 [00:38<00:00,  3.89s/it]\n",
      "  0%|          | 0/10 [00:00<?, ?it/s]"
     ]
    },
    {
     "name": "stdout",
     "output_type": "stream",
     "text": [
      "new tree!\n",
      "Current log-likelihood:  [[-1260.85124703]]\n",
      "6\n"
     ]
    },
    {
     "name": "stderr",
     "output_type": "stream",
     "text": [
      "100%|██████████| 10/10 [00:39<00:00,  3.90s/it]\n",
      "100%|██████████| 10/10 [00:38<00:00,  3.89s/it]\n",
      "  0%|          | 0/10 [00:00<?, ?it/s]"
     ]
    },
    {
     "name": "stdout",
     "output_type": "stream",
     "text": [
      "Current log-likelihood:  [[-1209.52793094]]\n",
      "7\n"
     ]
    },
    {
     "name": "stderr",
     "output_type": "stream",
     "text": [
      "100%|██████████| 10/10 [00:38<00:00,  3.89s/it]\n",
      "100%|██████████| 10/10 [00:39<00:00,  3.91s/it]\n",
      "  0%|          | 0/10 [00:00<?, ?it/s]"
     ]
    },
    {
     "name": "stdout",
     "output_type": "stream",
     "text": [
      "Current log-likelihood:  [[-1256.70036514]]\n",
      "8\n"
     ]
    },
    {
     "name": "stderr",
     "output_type": "stream",
     "text": [
      "100%|██████████| 10/10 [00:38<00:00,  3.90s/it]\n",
      "100%|██████████| 10/10 [00:39<00:00,  3.90s/it]\n",
      "  0%|          | 0/10 [00:00<?, ?it/s]"
     ]
    },
    {
     "name": "stdout",
     "output_type": "stream",
     "text": [
      "Current log-likelihood:  [[-1269.13033726]]\n",
      "9\n"
     ]
    },
    {
     "name": "stderr",
     "output_type": "stream",
     "text": [
      "100%|██████████| 10/10 [00:39<00:00,  3.92s/it]\n",
      "100%|██████████| 10/10 [00:39<00:00,  3.94s/it]\n",
      "  0%|          | 0/10 [00:00<?, ?it/s]"
     ]
    },
    {
     "name": "stdout",
     "output_type": "stream",
     "text": [
      "Current log-likelihood:  [[-1246.06725085]]\n",
      "10\n"
     ]
    },
    {
     "name": "stderr",
     "output_type": "stream",
     "text": [
      "100%|██████████| 10/10 [00:39<00:00,  3.91s/it]\n",
      "100%|██████████| 10/10 [00:39<00:00,  3.91s/it]\n",
      "  0%|          | 0/10 [00:00<?, ?it/s]"
     ]
    },
    {
     "name": "stdout",
     "output_type": "stream",
     "text": [
      "Current log-likelihood:  [[-1247.97203808]]\n",
      "11\n"
     ]
    },
    {
     "name": "stderr",
     "output_type": "stream",
     "text": [
      "100%|██████████| 10/10 [00:39<00:00,  3.94s/it]\n",
      "100%|██████████| 10/10 [00:39<00:00,  3.91s/it]\n",
      "  0%|          | 0/10 [00:00<?, ?it/s]"
     ]
    },
    {
     "name": "stdout",
     "output_type": "stream",
     "text": [
      "Current log-likelihood:  [[-1235.68498943]]\n",
      "12\n"
     ]
    },
    {
     "name": "stderr",
     "output_type": "stream",
     "text": [
      "100%|██████████| 10/10 [00:39<00:00,  3.90s/it]\n",
      "  0%|          | 0/10 [00:00<?, ?it/s]"
     ]
    },
    {
     "name": "stdout",
     "output_type": "stream",
     "text": [
      "new tree!\n",
      "Current log-likelihood:  [[-1221.01946496]]\n",
      "13\n"
     ]
    },
    {
     "name": "stderr",
     "output_type": "stream",
     "text": [
      "100%|██████████| 10/10 [00:39<00:00,  3.94s/it]\n",
      "  0%|          | 0/10 [00:00<?, ?it/s]"
     ]
    },
    {
     "name": "stdout",
     "output_type": "stream",
     "text": [
      "new tree!\n",
      "Current log-likelihood:  [[-1202.31796178]]\n",
      "14\n"
     ]
    },
    {
     "name": "stderr",
     "output_type": "stream",
     "text": [
      "100%|██████████| 10/10 [00:39<00:00,  3.90s/it]\n",
      "100%|██████████| 10/10 [00:39<00:00,  3.90s/it]\n",
      "  0%|          | 0/10 [00:00<?, ?it/s]"
     ]
    },
    {
     "name": "stdout",
     "output_type": "stream",
     "text": [
      "Current log-likelihood:  [[-1192.72236351]]\n",
      "15\n"
     ]
    },
    {
     "name": "stderr",
     "output_type": "stream",
     "text": [
      "100%|██████████| 10/10 [00:39<00:00,  3.93s/it]\n",
      "100%|██████████| 10/10 [00:39<00:00,  3.93s/it]\n",
      "  0%|          | 0/10 [00:00<?, ?it/s]"
     ]
    },
    {
     "name": "stdout",
     "output_type": "stream",
     "text": [
      "Current log-likelihood:  [[-1252.43848585]]\n",
      "16\n"
     ]
    },
    {
     "name": "stderr",
     "output_type": "stream",
     "text": [
      "100%|██████████| 10/10 [00:39<00:00,  3.91s/it]\n",
      "  0%|          | 0/10 [00:00<?, ?it/s]"
     ]
    },
    {
     "name": "stdout",
     "output_type": "stream",
     "text": [
      "new tree!\n",
      "Current log-likelihood:  [[-1208.24178427]]\n",
      "17\n"
     ]
    },
    {
     "name": "stderr",
     "output_type": "stream",
     "text": [
      "100%|██████████| 10/10 [00:38<00:00,  3.89s/it]\n",
      "100%|██████████| 10/10 [00:38<00:00,  3.89s/it]\n",
      "  0%|          | 0/10 [00:00<?, ?it/s]"
     ]
    },
    {
     "name": "stdout",
     "output_type": "stream",
     "text": [
      "Current log-likelihood:  [[-1211.66233239]]\n",
      "18\n"
     ]
    },
    {
     "name": "stderr",
     "output_type": "stream",
     "text": [
      "100%|██████████| 10/10 [00:39<00:00,  3.91s/it]\n",
      "100%|██████████| 10/10 [00:39<00:00,  3.94s/it]\n",
      "  0%|          | 0/10 [00:00<?, ?it/s]"
     ]
    },
    {
     "name": "stdout",
     "output_type": "stream",
     "text": [
      "Current log-likelihood:  [[-1204.7154589]]\n",
      "19\n"
     ]
    },
    {
     "name": "stderr",
     "output_type": "stream",
     "text": [
      "100%|██████████| 10/10 [00:39<00:00,  3.90s/it]\n",
      "100%|██████████| 10/10 [00:41<00:00,  4.23s/it]\n",
      "  0%|          | 0/10 [00:00<?, ?it/s]"
     ]
    },
    {
     "name": "stdout",
     "output_type": "stream",
     "text": [
      "Current log-likelihood:  [[-1228.46933552]]\n",
      "20\n"
     ]
    },
    {
     "name": "stderr",
     "output_type": "stream",
     "text": [
      "100%|██████████| 10/10 [00:40<00:00,  4.05s/it]\n",
      "  0%|          | 0/10 [00:00<?, ?it/s]"
     ]
    },
    {
     "name": "stdout",
     "output_type": "stream",
     "text": [
      "new tree!\n",
      "Current log-likelihood:  [[-1217.83154868]]\n",
      "21\n"
     ]
    },
    {
     "name": "stderr",
     "output_type": "stream",
     "text": [
      "100%|██████████| 10/10 [00:40<00:00,  4.01s/it]\n",
      "  0%|          | 0/10 [00:00<?, ?it/s]"
     ]
    },
    {
     "name": "stdout",
     "output_type": "stream",
     "text": [
      "new tree!\n",
      "Current log-likelihood:  [[-1172.43901819]]\n",
      "22\n"
     ]
    },
    {
     "name": "stderr",
     "output_type": "stream",
     "text": [
      "100%|██████████| 10/10 [00:40<00:00,  4.06s/it]\n",
      "100%|██████████| 10/10 [00:39<00:00,  4.02s/it]\n",
      "  0%|          | 0/10 [00:00<?, ?it/s]"
     ]
    },
    {
     "name": "stdout",
     "output_type": "stream",
     "text": [
      "Current log-likelihood:  [[-1192.04903256]]\n",
      "23\n"
     ]
    },
    {
     "name": "stderr",
     "output_type": "stream",
     "text": [
      "100%|██████████| 10/10 [00:39<00:00,  3.93s/it]\n",
      "100%|██████████| 10/10 [00:39<00:00,  3.93s/it]\n",
      "  0%|          | 0/10 [00:00<?, ?it/s]"
     ]
    },
    {
     "name": "stdout",
     "output_type": "stream",
     "text": [
      "Current log-likelihood:  [[-1199.73953055]]\n",
      "24\n"
     ]
    },
    {
     "name": "stderr",
     "output_type": "stream",
     "text": [
      "100%|██████████| 10/10 [00:39<00:00,  3.92s/it]\n",
      "  0%|          | 0/10 [00:00<?, ?it/s]"
     ]
    },
    {
     "name": "stdout",
     "output_type": "stream",
     "text": [
      "new tree!\n",
      "Current log-likelihood:  [[-1178.38784854]]\n",
      "25\n"
     ]
    },
    {
     "name": "stderr",
     "output_type": "stream",
     "text": [
      "100%|██████████| 10/10 [00:40<00:00,  4.07s/it]\n",
      "100%|██████████| 10/10 [00:39<00:00,  3.93s/it]\n",
      "  0%|          | 0/10 [00:00<?, ?it/s]"
     ]
    },
    {
     "name": "stdout",
     "output_type": "stream",
     "text": [
      "Current log-likelihood:  [[-1176.44810295]]\n",
      "26\n"
     ]
    },
    {
     "name": "stderr",
     "output_type": "stream",
     "text": [
      "100%|██████████| 10/10 [00:38<00:00,  3.89s/it]\n",
      "100%|██████████| 10/10 [00:39<00:00,  3.93s/it]\n",
      "  0%|          | 0/10 [00:00<?, ?it/s]"
     ]
    },
    {
     "name": "stdout",
     "output_type": "stream",
     "text": [
      "Current log-likelihood:  [[-1194.9717462]]\n",
      "27\n"
     ]
    },
    {
     "name": "stderr",
     "output_type": "stream",
     "text": [
      "100%|██████████| 10/10 [00:40<00:00,  4.02s/it]\n",
      "100%|██████████| 10/10 [00:39<00:00,  4.03s/it]\n"
     ]
    },
    {
     "name": "stdout",
     "output_type": "stream",
     "text": [
      "Current log-likelihood:  [[-1195.86064225]]\n",
      "28\n"
     ]
    },
    {
     "name": "stderr",
     "output_type": "stream",
     "text": [
      "100%|██████████| 10/10 [00:40<00:00,  4.13s/it]\n",
      "  0%|          | 0/10 [00:00<?, ?it/s]"
     ]
    },
    {
     "name": "stdout",
     "output_type": "stream",
     "text": [
      "new tree!\n",
      "Current log-likelihood:  [[-1182.13740782]]\n",
      "29\n"
     ]
    },
    {
     "name": "stderr",
     "output_type": "stream",
     "text": [
      "100%|██████████| 10/10 [00:40<00:00,  3.98s/it]\n",
      "100%|██████████| 10/10 [00:40<00:00,  4.04s/it]\n",
      "  0%|          | 0/10 [00:00<?, ?it/s]"
     ]
    },
    {
     "name": "stdout",
     "output_type": "stream",
     "text": [
      "Current log-likelihood:  [[-1162.7368322]]\n",
      "30\n"
     ]
    },
    {
     "name": "stderr",
     "output_type": "stream",
     "text": [
      "100%|██████████| 10/10 [00:40<00:00,  4.06s/it]\n",
      "100%|██████████| 10/10 [00:39<00:00,  3.96s/it]\n",
      "  0%|          | 0/10 [00:00<?, ?it/s]"
     ]
    },
    {
     "name": "stdout",
     "output_type": "stream",
     "text": [
      "Current log-likelihood:  [[-1214.22114563]]\n",
      "31\n"
     ]
    },
    {
     "name": "stderr",
     "output_type": "stream",
     "text": [
      "100%|██████████| 10/10 [00:38<00:00,  3.85s/it]\n",
      "  0%|          | 0/10 [00:00<?, ?it/s]"
     ]
    },
    {
     "name": "stdout",
     "output_type": "stream",
     "text": [
      "new tree!\n",
      "Current log-likelihood:  [[-1176.75254841]]\n",
      "32\n"
     ]
    },
    {
     "name": "stderr",
     "output_type": "stream",
     "text": [
      "100%|██████████| 10/10 [00:38<00:00,  3.88s/it]\n",
      "  0%|          | 0/10 [00:00<?, ?it/s]"
     ]
    },
    {
     "name": "stdout",
     "output_type": "stream",
     "text": [
      "new tree!\n",
      "Current log-likelihood:  [[-1167.39407279]]\n",
      "33\n"
     ]
    },
    {
     "name": "stderr",
     "output_type": "stream",
     "text": [
      "100%|██████████| 10/10 [00:39<00:00,  3.92s/it]\n",
      "100%|██████████| 10/10 [00:39<00:00,  4.05s/it]\n",
      "  0%|          | 0/10 [00:00<?, ?it/s]"
     ]
    },
    {
     "name": "stdout",
     "output_type": "stream",
     "text": [
      "Current log-likelihood:  [[-1172.13837278]]\n",
      "34\n"
     ]
    },
    {
     "name": "stderr",
     "output_type": "stream",
     "text": [
      "100%|██████████| 10/10 [00:39<00:00,  3.93s/it]\n",
      "100%|██████████| 10/10 [00:40<00:00,  4.00s/it]\n",
      "  0%|          | 0/10 [00:00<?, ?it/s]"
     ]
    },
    {
     "name": "stdout",
     "output_type": "stream",
     "text": [
      "Current log-likelihood:  [[-1197.11467211]]\n",
      "35\n"
     ]
    },
    {
     "name": "stderr",
     "output_type": "stream",
     "text": [
      "100%|██████████| 10/10 [00:39<00:00,  3.98s/it]\n",
      "  0%|          | 0/10 [00:00<?, ?it/s]"
     ]
    },
    {
     "name": "stdout",
     "output_type": "stream",
     "text": [
      "new tree!\n",
      "Current log-likelihood:  [[-1163.92317539]]\n",
      "36\n"
     ]
    },
    {
     "name": "stderr",
     "output_type": "stream",
     "text": [
      "100%|██████████| 10/10 [00:39<00:00,  3.90s/it]\n",
      "100%|██████████| 10/10 [00:39<00:00,  3.97s/it]\n",
      "  0%|          | 0/10 [00:00<?, ?it/s]"
     ]
    },
    {
     "name": "stdout",
     "output_type": "stream",
     "text": [
      "Current log-likelihood:  [[-1179.87832111]]\n",
      "37\n"
     ]
    },
    {
     "name": "stderr",
     "output_type": "stream",
     "text": [
      "100%|██████████| 10/10 [00:40<00:00,  4.12s/it]\n",
      "100%|██████████| 10/10 [00:38<00:00,  3.89s/it]\n",
      "  0%|          | 0/10 [00:00<?, ?it/s]"
     ]
    },
    {
     "name": "stdout",
     "output_type": "stream",
     "text": [
      "Current log-likelihood:  [[-1184.53559242]]\n",
      "38\n"
     ]
    },
    {
     "name": "stderr",
     "output_type": "stream",
     "text": [
      "100%|██████████| 10/10 [00:38<00:00,  3.87s/it]\n",
      "  0%|          | 0/10 [00:00<?, ?it/s]"
     ]
    },
    {
     "name": "stdout",
     "output_type": "stream",
     "text": [
      "new tree!\n",
      "Current log-likelihood:  [[-1165.17939808]]\n",
      "39\n"
     ]
    },
    {
     "name": "stderr",
     "output_type": "stream",
     "text": [
      "100%|██████████| 10/10 [00:38<00:00,  3.86s/it]\n",
      "100%|██████████| 10/10 [00:39<00:00,  3.88s/it]\n",
      "  0%|          | 0/10 [00:00<?, ?it/s]"
     ]
    },
    {
     "name": "stdout",
     "output_type": "stream",
     "text": [
      "Current log-likelihood:  [[-1163.70798105]]\n",
      "40\n"
     ]
    },
    {
     "name": "stderr",
     "output_type": "stream",
     "text": [
      "100%|██████████| 10/10 [00:38<00:00,  3.89s/it]\n",
      "100%|██████████| 10/10 [00:38<00:00,  3.90s/it]\n",
      "  0%|          | 0/10 [00:00<?, ?it/s]"
     ]
    },
    {
     "name": "stdout",
     "output_type": "stream",
     "text": [
      "Current log-likelihood:  [[-1194.59834092]]\n",
      "41\n"
     ]
    },
    {
     "name": "stderr",
     "output_type": "stream",
     "text": [
      "100%|██████████| 10/10 [00:38<00:00,  3.89s/it]\n",
      "100%|██████████| 10/10 [00:38<00:00,  3.89s/it]\n",
      "  0%|          | 0/10 [00:00<?, ?it/s]"
     ]
    },
    {
     "name": "stdout",
     "output_type": "stream",
     "text": [
      "Current log-likelihood:  [[-1194.23159686]]\n",
      "42\n"
     ]
    },
    {
     "name": "stderr",
     "output_type": "stream",
     "text": [
      "100%|██████████| 10/10 [00:38<00:00,  3.88s/it]\n",
      "  0%|          | 0/10 [00:00<?, ?it/s]"
     ]
    },
    {
     "name": "stdout",
     "output_type": "stream",
     "text": [
      "new tree!\n",
      "Current log-likelihood:  [[-1169.63681044]]\n",
      "43\n"
     ]
    },
    {
     "name": "stderr",
     "output_type": "stream",
     "text": [
      "100%|██████████| 10/10 [00:38<00:00,  3.87s/it]\n",
      "100%|██████████| 10/10 [00:38<00:00,  3.89s/it]\n",
      "  0%|          | 0/10 [00:00<?, ?it/s]"
     ]
    },
    {
     "name": "stdout",
     "output_type": "stream",
     "text": [
      "Current log-likelihood:  [[-1201.18379042]]\n",
      "44\n"
     ]
    },
    {
     "name": "stderr",
     "output_type": "stream",
     "text": [
      "100%|██████████| 10/10 [00:38<00:00,  3.87s/it]\n",
      "100%|██████████| 10/10 [00:38<00:00,  3.88s/it]\n",
      "  0%|          | 0/10 [00:00<?, ?it/s]"
     ]
    },
    {
     "name": "stdout",
     "output_type": "stream",
     "text": [
      "Current log-likelihood:  [[-1189.6424582]]\n",
      "45\n"
     ]
    },
    {
     "name": "stderr",
     "output_type": "stream",
     "text": [
      "100%|██████████| 10/10 [00:39<00:00,  3.90s/it]\n",
      "100%|██████████| 10/10 [00:38<00:00,  3.90s/it]\n",
      "  0%|          | 0/10 [00:00<?, ?it/s]"
     ]
    },
    {
     "name": "stdout",
     "output_type": "stream",
     "text": [
      "Current log-likelihood:  [[-1203.4568939]]\n",
      "46\n"
     ]
    },
    {
     "name": "stderr",
     "output_type": "stream",
     "text": [
      "100%|██████████| 10/10 [00:38<00:00,  3.89s/it]\n",
      "100%|██████████| 10/10 [00:38<00:00,  3.89s/it]\n",
      "  0%|          | 0/10 [00:00<?, ?it/s]"
     ]
    },
    {
     "name": "stdout",
     "output_type": "stream",
     "text": [
      "Current log-likelihood:  [[-1187.87549157]]\n",
      "47\n"
     ]
    },
    {
     "name": "stderr",
     "output_type": "stream",
     "text": [
      "100%|██████████| 10/10 [00:38<00:00,  3.89s/it]\n",
      "  0%|          | 0/10 [00:00<?, ?it/s]"
     ]
    },
    {
     "name": "stdout",
     "output_type": "stream",
     "text": [
      "new tree!\n",
      "Current log-likelihood:  [[-1175.00229071]]\n",
      "48\n"
     ]
    },
    {
     "name": "stderr",
     "output_type": "stream",
     "text": [
      "100%|██████████| 10/10 [00:39<00:00,  3.90s/it]\n",
      "100%|██████████| 10/10 [00:38<00:00,  3.89s/it]\n",
      "  0%|          | 0/10 [00:00<?, ?it/s]"
     ]
    },
    {
     "name": "stdout",
     "output_type": "stream",
     "text": [
      "Current log-likelihood:  [[-1208.83182757]]\n",
      "49\n"
     ]
    },
    {
     "name": "stderr",
     "output_type": "stream",
     "text": [
      "100%|██████████| 10/10 [00:38<00:00,  3.88s/it]\n",
      "  0%|          | 0/10 [00:00<?, ?it/s]"
     ]
    },
    {
     "name": "stdout",
     "output_type": "stream",
     "text": [
      "new tree!\n",
      "Current log-likelihood:  [[-1169.43462368]]\n",
      "50\n"
     ]
    },
    {
     "name": "stderr",
     "output_type": "stream",
     "text": [
      "100%|██████████| 10/10 [00:38<00:00,  3.90s/it]\n",
      "  0%|          | 0/10 [00:00<?, ?it/s]"
     ]
    },
    {
     "name": "stdout",
     "output_type": "stream",
     "text": [
      "new tree!\n",
      "Current log-likelihood:  [[-1163.65819568]]\n",
      "51\n"
     ]
    },
    {
     "name": "stderr",
     "output_type": "stream",
     "text": [
      "100%|██████████| 10/10 [00:38<00:00,  3.88s/it]\n",
      "100%|██████████| 10/10 [00:38<00:00,  3.88s/it]\n",
      "  0%|          | 0/10 [00:00<?, ?it/s]"
     ]
    },
    {
     "name": "stdout",
     "output_type": "stream",
     "text": [
      "Current log-likelihood:  [[-1190.4484233]]\n",
      "52\n"
     ]
    },
    {
     "name": "stderr",
     "output_type": "stream",
     "text": [
      "100%|██████████| 10/10 [00:38<00:00,  3.88s/it]\n",
      "100%|██████████| 10/10 [00:38<00:00,  3.89s/it]\n",
      "  0%|          | 0/10 [00:00<?, ?it/s]"
     ]
    },
    {
     "name": "stdout",
     "output_type": "stream",
     "text": [
      "Current log-likelihood:  [[-1174.67008013]]\n",
      "53\n"
     ]
    },
    {
     "name": "stderr",
     "output_type": "stream",
     "text": [
      "100%|██████████| 10/10 [00:39<00:00,  3.89s/it]\n",
      "100%|██████████| 10/10 [00:38<00:00,  3.90s/it]\n",
      "  0%|          | 0/10 [00:00<?, ?it/s]"
     ]
    },
    {
     "name": "stdout",
     "output_type": "stream",
     "text": [
      "Current log-likelihood:  [[-1173.56026571]]\n",
      "54\n"
     ]
    },
    {
     "name": "stderr",
     "output_type": "stream",
     "text": [
      "100%|██████████| 10/10 [00:39<00:00,  3.90s/it]\n",
      "100%|██████████| 10/10 [00:39<00:00,  3.90s/it]\n",
      "  0%|          | 0/10 [00:00<?, ?it/s]"
     ]
    },
    {
     "name": "stdout",
     "output_type": "stream",
     "text": [
      "Current log-likelihood:  [[-1190.86029535]]\n",
      "55\n"
     ]
    },
    {
     "name": "stderr",
     "output_type": "stream",
     "text": [
      "100%|██████████| 10/10 [00:38<00:00,  3.89s/it]\n",
      "100%|██████████| 10/10 [00:38<00:00,  3.89s/it]\n",
      "  0%|          | 0/10 [00:00<?, ?it/s]"
     ]
    },
    {
     "name": "stdout",
     "output_type": "stream",
     "text": [
      "Current log-likelihood:  [[-1173.63520483]]\n",
      "56\n"
     ]
    },
    {
     "name": "stderr",
     "output_type": "stream",
     "text": [
      "100%|██████████| 10/10 [00:38<00:00,  3.89s/it]\n",
      "  0%|          | 0/10 [00:00<?, ?it/s]"
     ]
    },
    {
     "name": "stdout",
     "output_type": "stream",
     "text": [
      "new tree!\n",
      "Current log-likelihood:  [[-1175.00816752]]\n",
      "57\n"
     ]
    },
    {
     "name": "stderr",
     "output_type": "stream",
     "text": [
      "100%|██████████| 10/10 [00:39<00:00,  3.92s/it]\n",
      "  0%|          | 0/10 [00:00<?, ?it/s]"
     ]
    },
    {
     "name": "stdout",
     "output_type": "stream",
     "text": [
      "new tree!\n",
      "Current log-likelihood:  [[-1160.2485373]]\n",
      "58\n"
     ]
    },
    {
     "name": "stderr",
     "output_type": "stream",
     "text": [
      "100%|██████████| 10/10 [00:39<00:00,  3.90s/it]\n",
      "  0%|          | 0/10 [00:00<?, ?it/s]"
     ]
    },
    {
     "name": "stdout",
     "output_type": "stream",
     "text": [
      "new tree!\n",
      "Current log-likelihood:  [[-1150.40304795]]\n",
      "59\n"
     ]
    },
    {
     "name": "stderr",
     "output_type": "stream",
     "text": [
      "100%|██████████| 10/10 [00:39<00:00,  3.91s/it]\n",
      "100%|██████████| 10/10 [00:38<00:00,  3.90s/it]\n",
      "  0%|          | 0/10 [00:00<?, ?it/s]"
     ]
    },
    {
     "name": "stdout",
     "output_type": "stream",
     "text": [
      "Current log-likelihood:  [[-1165.9225705]]\n",
      "60\n"
     ]
    },
    {
     "name": "stderr",
     "output_type": "stream",
     "text": [
      "100%|██████████| 10/10 [00:38<00:00,  3.89s/it]\n",
      "100%|██████████| 10/10 [00:38<00:00,  3.89s/it]\n",
      "  0%|          | 0/10 [00:00<?, ?it/s]"
     ]
    },
    {
     "name": "stdout",
     "output_type": "stream",
     "text": [
      "Current log-likelihood:  [[-1190.3616848]]\n",
      "61\n"
     ]
    },
    {
     "name": "stderr",
     "output_type": "stream",
     "text": [
      "100%|██████████| 10/10 [00:38<00:00,  3.90s/it]\n",
      "  0%|          | 0/10 [00:00<?, ?it/s]"
     ]
    },
    {
     "name": "stdout",
     "output_type": "stream",
     "text": [
      "new tree!\n",
      "Current log-likelihood:  [[-1140.03565617]]\n",
      "62\n"
     ]
    },
    {
     "name": "stderr",
     "output_type": "stream",
     "text": [
      "100%|██████████| 10/10 [00:39<00:00,  3.89s/it]\n",
      "100%|██████████| 10/10 [00:39<00:00,  3.90s/it]\n",
      "  0%|          | 0/10 [00:00<?, ?it/s]"
     ]
    },
    {
     "name": "stdout",
     "output_type": "stream",
     "text": [
      "Current log-likelihood:  [[-1167.5543016]]\n",
      "63\n"
     ]
    },
    {
     "name": "stderr",
     "output_type": "stream",
     "text": [
      "100%|██████████| 10/10 [00:39<00:00,  3.90s/it]\n",
      "100%|██████████| 10/10 [00:39<00:00,  3.91s/it]\n",
      "  0%|          | 0/10 [00:00<?, ?it/s]"
     ]
    },
    {
     "name": "stdout",
     "output_type": "stream",
     "text": [
      "Current log-likelihood:  [[-1165.01147194]]\n",
      "64\n"
     ]
    },
    {
     "name": "stderr",
     "output_type": "stream",
     "text": [
      "100%|██████████| 10/10 [00:38<00:00,  3.87s/it]\n",
      "  0%|          | 0/10 [00:00<?, ?it/s]"
     ]
    },
    {
     "name": "stdout",
     "output_type": "stream",
     "text": [
      "new tree!\n",
      "Current log-likelihood:  [[-1145.96985628]]\n",
      "65\n"
     ]
    },
    {
     "name": "stderr",
     "output_type": "stream",
     "text": [
      "100%|██████████| 10/10 [00:40<00:00,  4.04s/it]\n",
      "100%|██████████| 10/10 [00:40<00:00,  4.01s/it]\n",
      "  0%|          | 0/10 [00:00<?, ?it/s]"
     ]
    },
    {
     "name": "stdout",
     "output_type": "stream",
     "text": [
      "Current log-likelihood:  [[-1169.21269872]]\n",
      "66\n"
     ]
    },
    {
     "name": "stderr",
     "output_type": "stream",
     "text": [
      "100%|██████████| 10/10 [00:38<00:00,  3.87s/it]\n",
      "  0%|          | 0/10 [00:00<?, ?it/s]"
     ]
    },
    {
     "name": "stdout",
     "output_type": "stream",
     "text": [
      "new tree!\n",
      "Current log-likelihood:  [[-1161.33319252]]\n",
      "67\n"
     ]
    },
    {
     "name": "stderr",
     "output_type": "stream",
     "text": [
      "100%|██████████| 10/10 [00:38<00:00,  3.89s/it]\n",
      "100%|██████████| 10/10 [00:39<00:00,  3.92s/it]\n",
      "  0%|          | 0/10 [00:00<?, ?it/s]"
     ]
    },
    {
     "name": "stdout",
     "output_type": "stream",
     "text": [
      "Current log-likelihood:  [[-1165.09501102]]\n",
      "68\n"
     ]
    },
    {
     "name": "stderr",
     "output_type": "stream",
     "text": [
      "100%|██████████| 10/10 [00:39<00:00,  3.91s/it]\n",
      "100%|██████████| 10/10 [00:38<00:00,  3.89s/it]\n",
      "  0%|          | 0/10 [00:00<?, ?it/s]"
     ]
    },
    {
     "name": "stdout",
     "output_type": "stream",
     "text": [
      "Current log-likelihood:  [[-1163.15990112]]\n",
      "69\n"
     ]
    },
    {
     "name": "stderr",
     "output_type": "stream",
     "text": [
      "100%|██████████| 10/10 [00:38<00:00,  3.87s/it]\n",
      "100%|██████████| 10/10 [00:38<00:00,  3.90s/it]\n",
      "  0%|          | 0/10 [00:00<?, ?it/s]"
     ]
    },
    {
     "name": "stdout",
     "output_type": "stream",
     "text": [
      "Current log-likelihood:  [[-1166.42137466]]\n",
      "70\n"
     ]
    },
    {
     "name": "stderr",
     "output_type": "stream",
     "text": [
      "100%|██████████| 10/10 [00:38<00:00,  3.88s/it]\n",
      "  0%|          | 0/10 [00:00<?, ?it/s]"
     ]
    },
    {
     "name": "stdout",
     "output_type": "stream",
     "text": [
      "new tree!\n",
      "Current log-likelihood:  [[-1168.66263727]]\n",
      "71\n"
     ]
    },
    {
     "name": "stderr",
     "output_type": "stream",
     "text": [
      "100%|██████████| 10/10 [00:38<00:00,  3.88s/it]\n",
      "  0%|          | 0/10 [00:00<?, ?it/s]"
     ]
    },
    {
     "name": "stdout",
     "output_type": "stream",
     "text": [
      "new tree!\n",
      "Current log-likelihood:  [[-1150.76882378]]\n",
      "72\n"
     ]
    },
    {
     "name": "stderr",
     "output_type": "stream",
     "text": [
      "100%|██████████| 10/10 [00:39<00:00,  3.97s/it]\n",
      "100%|██████████| 10/10 [00:39<00:00,  3.92s/it]\n",
      "  0%|          | 0/10 [00:00<?, ?it/s]"
     ]
    },
    {
     "name": "stdout",
     "output_type": "stream",
     "text": [
      "Current log-likelihood:  [[-1167.38795303]]\n",
      "73\n"
     ]
    },
    {
     "name": "stderr",
     "output_type": "stream",
     "text": [
      "100%|██████████| 10/10 [00:38<00:00,  3.88s/it]\n",
      "100%|██████████| 10/10 [00:38<00:00,  3.89s/it]\n",
      "  0%|          | 0/10 [00:00<?, ?it/s]"
     ]
    },
    {
     "name": "stdout",
     "output_type": "stream",
     "text": [
      "Current log-likelihood:  [[-1176.50518484]]\n",
      "74\n"
     ]
    },
    {
     "name": "stderr",
     "output_type": "stream",
     "text": [
      "100%|██████████| 10/10 [00:38<00:00,  3.89s/it]\n",
      "  0%|          | 0/10 [00:00<?, ?it/s]"
     ]
    },
    {
     "name": "stdout",
     "output_type": "stream",
     "text": [
      "new tree!\n",
      "Current log-likelihood:  [[-1160.89865222]]\n",
      "75\n"
     ]
    },
    {
     "name": "stderr",
     "output_type": "stream",
     "text": [
      "100%|██████████| 10/10 [00:38<00:00,  3.88s/it]\n",
      "  0%|          | 0/10 [00:00<?, ?it/s]"
     ]
    },
    {
     "name": "stdout",
     "output_type": "stream",
     "text": [
      "new tree!\n",
      "Current log-likelihood:  [[-1149.1150781]]\n",
      "76\n"
     ]
    },
    {
     "name": "stderr",
     "output_type": "stream",
     "text": [
      "100%|██████████| 10/10 [00:39<00:00,  3.91s/it]\n",
      "100%|██████████| 10/10 [00:39<00:00,  3.96s/it]\n",
      "  0%|          | 0/10 [00:00<?, ?it/s]"
     ]
    },
    {
     "name": "stdout",
     "output_type": "stream",
     "text": [
      "Current log-likelihood:  [[-1154.21498844]]\n",
      "77\n"
     ]
    },
    {
     "name": "stderr",
     "output_type": "stream",
     "text": [
      "100%|██████████| 10/10 [00:39<00:00,  3.93s/it]\n",
      "100%|██████████| 10/10 [00:39<00:00,  3.90s/it]\n",
      "  0%|          | 0/10 [00:00<?, ?it/s]"
     ]
    },
    {
     "name": "stdout",
     "output_type": "stream",
     "text": [
      "Current log-likelihood:  [[-1162.26570314]]\n",
      "78\n"
     ]
    },
    {
     "name": "stderr",
     "output_type": "stream",
     "text": [
      "100%|██████████| 10/10 [00:39<00:00,  3.91s/it]\n",
      "100%|██████████| 10/10 [00:38<00:00,  3.90s/it]\n",
      "  0%|          | 0/10 [00:00<?, ?it/s]"
     ]
    },
    {
     "name": "stdout",
     "output_type": "stream",
     "text": [
      "Current log-likelihood:  [[-1168.77236385]]\n",
      "79\n"
     ]
    },
    {
     "name": "stderr",
     "output_type": "stream",
     "text": [
      "100%|██████████| 10/10 [00:38<00:00,  3.89s/it]\n",
      "100%|██████████| 10/10 [00:38<00:00,  3.90s/it]\n",
      "  0%|          | 0/10 [00:00<?, ?it/s]"
     ]
    },
    {
     "name": "stdout",
     "output_type": "stream",
     "text": [
      "Current log-likelihood:  [[-1174.39947595]]\n",
      "80\n"
     ]
    },
    {
     "name": "stderr",
     "output_type": "stream",
     "text": [
      "100%|██████████| 10/10 [00:38<00:00,  3.90s/it]\n",
      "  0%|          | 0/10 [00:00<?, ?it/s]"
     ]
    },
    {
     "name": "stdout",
     "output_type": "stream",
     "text": [
      "new tree!\n",
      "Current log-likelihood:  [[-1173.9409335]]\n",
      "81\n"
     ]
    },
    {
     "name": "stderr",
     "output_type": "stream",
     "text": [
      "100%|██████████| 10/10 [00:38<00:00,  3.89s/it]\n",
      "100%|██████████| 10/10 [00:39<00:00,  3.92s/it]\n",
      "  0%|          | 0/10 [00:00<?, ?it/s]"
     ]
    },
    {
     "name": "stdout",
     "output_type": "stream",
     "text": [
      "Current log-likelihood:  [[-1165.9053031]]\n",
      "82\n"
     ]
    },
    {
     "name": "stderr",
     "output_type": "stream",
     "text": [
      "100%|██████████| 10/10 [00:38<00:00,  3.89s/it]\n",
      "100%|██████████| 10/10 [00:38<00:00,  3.89s/it]\n",
      "  0%|          | 0/10 [00:00<?, ?it/s]"
     ]
    },
    {
     "name": "stdout",
     "output_type": "stream",
     "text": [
      "Current log-likelihood:  [[-1162.505861]]\n",
      "83\n"
     ]
    },
    {
     "name": "stderr",
     "output_type": "stream",
     "text": [
      "100%|██████████| 10/10 [00:38<00:00,  3.89s/it]\n",
      "100%|██████████| 10/10 [00:38<00:00,  3.90s/it]\n",
      "  0%|          | 0/10 [00:00<?, ?it/s]"
     ]
    },
    {
     "name": "stdout",
     "output_type": "stream",
     "text": [
      "Current log-likelihood:  [[-1170.42012509]]\n",
      "84\n"
     ]
    },
    {
     "name": "stderr",
     "output_type": "stream",
     "text": [
      "100%|██████████| 10/10 [00:39<00:00,  3.93s/it]\n",
      "  0%|          | 0/10 [00:00<?, ?it/s]"
     ]
    },
    {
     "name": "stdout",
     "output_type": "stream",
     "text": [
      "new tree!\n",
      "Current log-likelihood:  [[-1135.31770822]]\n",
      "85\n"
     ]
    },
    {
     "name": "stderr",
     "output_type": "stream",
     "text": [
      "100%|██████████| 10/10 [00:39<00:00,  3.90s/it]\n",
      "100%|██████████| 10/10 [00:39<00:00,  3.94s/it]\n",
      "  0%|          | 0/10 [00:00<?, ?it/s]"
     ]
    },
    {
     "name": "stdout",
     "output_type": "stream",
     "text": [
      "Current log-likelihood:  [[-1152.77269688]]\n",
      "86\n"
     ]
    },
    {
     "name": "stderr",
     "output_type": "stream",
     "text": [
      "100%|██████████| 10/10 [00:39<00:00,  3.90s/it]\n",
      "  0%|          | 0/10 [00:00<?, ?it/s]"
     ]
    },
    {
     "name": "stdout",
     "output_type": "stream",
     "text": [
      "new tree!\n",
      "Current log-likelihood:  [[-1149.7401757]]\n",
      "87\n"
     ]
    },
    {
     "name": "stderr",
     "output_type": "stream",
     "text": [
      "100%|██████████| 10/10 [00:39<00:00,  3.93s/it]\n",
      "100%|██████████| 10/10 [00:39<00:00,  3.93s/it]\n",
      "  0%|          | 0/10 [00:00<?, ?it/s]"
     ]
    },
    {
     "name": "stdout",
     "output_type": "stream",
     "text": [
      "Current log-likelihood:  [[-1163.99333562]]\n",
      "88\n"
     ]
    },
    {
     "name": "stderr",
     "output_type": "stream",
     "text": [
      "100%|██████████| 10/10 [00:39<00:00,  3.91s/it]\n",
      "100%|██████████| 10/10 [00:39<00:00,  4.00s/it]\n",
      "  0%|          | 0/10 [00:00<?, ?it/s]"
     ]
    },
    {
     "name": "stdout",
     "output_type": "stream",
     "text": [
      "Current log-likelihood:  [[-1166.42287982]]\n",
      "89\n"
     ]
    },
    {
     "name": "stderr",
     "output_type": "stream",
     "text": [
      "100%|██████████| 10/10 [00:38<00:00,  3.91s/it]\n",
      "  0%|          | 0/10 [00:00<?, ?it/s]"
     ]
    },
    {
     "name": "stdout",
     "output_type": "stream",
     "text": [
      "new tree!\n",
      "Current log-likelihood:  [[-1141.13745244]]\n",
      "90\n"
     ]
    },
    {
     "name": "stderr",
     "output_type": "stream",
     "text": [
      "100%|██████████| 10/10 [00:39<00:00,  3.92s/it]\n",
      "100%|██████████| 10/10 [00:39<00:00,  3.92s/it]\n",
      "  0%|          | 0/10 [00:00<?, ?it/s]"
     ]
    },
    {
     "name": "stdout",
     "output_type": "stream",
     "text": [
      "Current log-likelihood:  [[-1166.08871727]]\n",
      "91\n"
     ]
    },
    {
     "name": "stderr",
     "output_type": "stream",
     "text": [
      "100%|██████████| 10/10 [00:39<00:00,  3.92s/it]\n",
      "  0%|          | 0/10 [00:00<?, ?it/s]"
     ]
    },
    {
     "name": "stdout",
     "output_type": "stream",
     "text": [
      "new tree!\n",
      "Current log-likelihood:  [[-1145.37337809]]\n",
      "92\n"
     ]
    },
    {
     "name": "stderr",
     "output_type": "stream",
     "text": [
      "100%|██████████| 10/10 [00:38<00:00,  3.89s/it]\n",
      "100%|██████████| 10/10 [00:38<00:00,  3.89s/it]\n",
      "  0%|          | 0/10 [00:00<?, ?it/s]"
     ]
    },
    {
     "name": "stdout",
     "output_type": "stream",
     "text": [
      "Current log-likelihood:  [[-1136.8312434]]\n",
      "93\n"
     ]
    },
    {
     "name": "stderr",
     "output_type": "stream",
     "text": [
      "100%|██████████| 10/10 [00:39<00:00,  3.91s/it]\n",
      "100%|██████████| 10/10 [00:39<00:00,  3.94s/it]\n",
      "  0%|          | 0/10 [00:00<?, ?it/s]"
     ]
    },
    {
     "name": "stdout",
     "output_type": "stream",
     "text": [
      "Current log-likelihood:  [[-1176.04454536]]\n",
      "94\n"
     ]
    },
    {
     "name": "stderr",
     "output_type": "stream",
     "text": [
      "100%|██████████| 10/10 [00:39<00:00,  3.91s/it]\n",
      "  0%|          | 0/10 [00:00<?, ?it/s]"
     ]
    },
    {
     "name": "stdout",
     "output_type": "stream",
     "text": [
      "new tree!\n",
      "Current log-likelihood:  [[-1170.49960585]]\n",
      "95\n"
     ]
    },
    {
     "name": "stderr",
     "output_type": "stream",
     "text": [
      "100%|██████████| 10/10 [00:39<00:00,  3.97s/it]\n",
      "  0%|          | 0/10 [00:00<?, ?it/s]"
     ]
    },
    {
     "name": "stdout",
     "output_type": "stream",
     "text": [
      "new tree!\n",
      "Current log-likelihood:  [[-1170.99737046]]\n",
      "96\n"
     ]
    },
    {
     "name": "stderr",
     "output_type": "stream",
     "text": [
      "100%|██████████| 10/10 [00:39<00:00,  3.90s/it]\n",
      "100%|██████████| 10/10 [00:39<00:00,  4.03s/it]\n",
      "  0%|          | 0/10 [00:00<?, ?it/s]"
     ]
    },
    {
     "name": "stdout",
     "output_type": "stream",
     "text": [
      "Current log-likelihood:  [[-1174.30414728]]\n",
      "97\n"
     ]
    },
    {
     "name": "stderr",
     "output_type": "stream",
     "text": [
      "100%|██████████| 10/10 [00:39<00:00,  3.91s/it]\n",
      "  0%|          | 0/10 [00:00<?, ?it/s]"
     ]
    },
    {
     "name": "stdout",
     "output_type": "stream",
     "text": [
      "new tree!\n",
      "Current log-likelihood:  [[-1165.62583279]]\n",
      "98\n"
     ]
    },
    {
     "name": "stderr",
     "output_type": "stream",
     "text": [
      "100%|██████████| 10/10 [00:39<00:00,  3.92s/it]\n",
      "  0%|          | 0/10 [00:00<?, ?it/s]"
     ]
    },
    {
     "name": "stdout",
     "output_type": "stream",
     "text": [
      "new tree!\n",
      "Current log-likelihood:  [[-1144.05671583]]\n",
      "99\n"
     ]
    },
    {
     "name": "stderr",
     "output_type": "stream",
     "text": [
      "100%|██████████| 10/10 [00:39<00:00,  3.92s/it]\n",
      "100%|██████████| 10/10 [00:39<00:00,  3.92s/it]"
     ]
    },
    {
     "name": "stdout",
     "output_type": "stream",
     "text": [
      "Current log-likelihood:  [[-1137.79267863]]\n"
     ]
    },
    {
     "name": "stderr",
     "output_type": "stream",
     "text": [
      "\n"
     ]
    }
   ],
   "source": [
    "outer = 100\n",
    "inner = 10\n",
    "damper = .9\n",
    "\n",
    "# Initial values\n",
    "\n",
    "NaDeneRT    = PyInstEvo.ResolvedTree(Data.loc[Data['ruhlen_1']=='NADENE'],'NTree1')\n",
    "\n",
    "numbranches = NaDeneRT.interiorbranches\n",
    "bInit       = np.matrix(-1-np.linspace(0,10,num=numbranches)/numbranches)\n",
    "rInit       = np.zeros((1,len(NaDeneRT.words)))\n",
    "dparms      = np.sum(NaDeneRT.deathmat[:,0]==0)\n",
    "dInit       = np.zeros((1,dparms))+1\n",
    "eInit       = np.matrix(5)\n",
    "parmsInit   = np.hstack((bInit,rInit,dInit,eInit))\n",
    "VInit       = np.eye((np.shape(parmsInit)[1]))\n",
    "\n",
    "Tree  = StartTree \n",
    "val   = PyInstEvo.mlfun(parmsInit, Tree) \n",
    "\n",
    "DrawnTrees = []\n",
    "valRecord  = []\n",
    "\n",
    "# Will replace currentParms and currentV ultimately\n",
    "\n",
    "mu = parmsInit\n",
    "Vu = VInit\n",
    "\n",
    "for i in range(outer):\n",
    "    print(i)\n",
    "    TreeHat=PyInstEvo.ParameterizedTree(Data.loc[Data['ruhlen_1']=='NADENE'], 'NTree1', np.matrix(mu))\n",
    "    TreeHat.priordepth(min[0], max[0])\n",
    "    TreeHat.splitinfo(Splits[Splits['phylum'] == 'NaDene'])\n",
    "    TreeHat.settimes()   \n",
    "    \n",
    "    parmsHat, vals, junk = PyInstEvo.myMcMcSampler_mwg(PyInstEvo.mlfun, np.matrix(mu), \n",
    "                                                       Vu, inner, 10, damper, .28, TreeHat)\n",
    "    \n",
    "    valHat = vals[-1]\n",
    "    \n",
    "    if np.random.uniform(0,1) < np.exp( valHat - val) or i == 0: \n",
    "        X            = np.reshape(parmsHat, (inner,-1) )\n",
    "        currentParms = np.copy(X[-1,:])\n",
    "        val          = valHat\n",
    "        TreeNew      = copy.deepcopy(TreeHat)\n",
    "        TreeNew.parameters = currentParms\n",
    "        print('new tree!')\n",
    "    else:\n",
    "        parmsHat, vals, junk = PyInstEvo.myMcMcSampler_mwg(PyInstEvo.mlfun, np.matrix(mu), \n",
    "                                                            Vu, inner, 10, damper, .28, TreeNew)\n",
    "        X            = np.reshape(parmsHat, (inner,-1) )\n",
    "        currentParms = np.copy(X[-1,:])\n",
    "        TreeNew      = copy.deepcopy(Tree)\n",
    "        TreeNew.parameters = currentParms \n",
    "        val = vals[-1]\n",
    "    \n",
    "    valRecord.append(val)\n",
    "    print('Current log-likelihood: ', val)\n",
    "    DrawnTrees.append(TreeNew)\n",
    "    \n",
    "    # Update proposal distribution \n",
    "\n",
    "    it = i + 1\n",
    "    mu = mu + (1/(it + 1))**damper*(currentParms - mu)\n",
    "    Vu = Vu + (1/(it + 1))**damper*((currentParms - mu).T*(currentParms - mu) - Vu)\n",
    "    Vu = np.eye(np.shape(Vu)[0])*np.diagonal(Vu)\n",
    "\n",
    "    TreeNew.priordepth(min[0], max[0])\n",
    "    TreeNew.splitinfo(Splits[Splits['phylum'] == 'NaDene'])\n",
    "    TreeNew.settimes()  \n",
    "    \n",
    "    if PyInstEvo.is_pos_def(Vu)==False:\n",
    "        Vu = PyInstEvo.make_pos_def(Vu)\n",
    "        break"
   ]
  },
  {
   "cell_type": "code",
   "execution_count": 25,
   "metadata": {
    "collapsed": false
   },
   "outputs": [],
   "source": [
    "pd.to_pickle(DrawnTrees,os.getcwd() + '//IEData//NaDeneDraws.pkl')"
   ]
  },
  {
   "cell_type": "code",
   "execution_count": null,
   "metadata": {
    "collapsed": true
   },
   "outputs": [],
   "source": []
  }
 ],
 "metadata": {
  "anaconda-cloud": {},
  "kernelspec": {
   "display_name": "Python 3",
   "language": "python",
   "name": "python3"
  },
  "language_info": {
   "codemirror_mode": {
    "name": "ipython",
    "version": 3
   },
   "file_extension": ".py",
   "mimetype": "text/x-python",
   "name": "python",
   "nbconvert_exporter": "python",
   "pygments_lexer": "ipython3",
   "version": "3.4.5"
  }
 },
 "nbformat": 4,
 "nbformat_minor": 0
}
