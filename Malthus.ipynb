{
 "cells": [
  {
   "cell_type": "markdown",
   "metadata": {},
   "source": [
    "# Modelling Mass Migration\n",
    "\n",
    "Let's think about this in the simplest possible way to begin with. Once the basics are in place, we can add in some complexities. \n",
    "\n",
    "The structure of the world is as follows. \n",
    "\n",
    "1. There is a grid of discrete points, one of which is occupied by an initial population. \n",
    "2. A Malthusian population dynamic is in place at the initial region. \n",
    "3. With a small probability $b$, a \"bonanza\" - a system-wide positive shock - occurs.\n",
    "\n",
    "So, in the initial location, imagine that production per person per person is :\n",
    "\n",
    "$$\n",
    "q_t = \\frac{A}{p_t}\n",
    "$$\n",
    "\n",
    "All production is devoted to creation of children, so the population next period is:\n",
    "\n",
    "$$\n",
    "p_{t+1} = p_tq_t = A\n",
    "$$\n",
    "\n",
    "This reflects the idea that population tends to its natural carrying capacity, so steady-state population is $p=A$. People cannot survive on their own, so if they wish to move to a new location, they need to do so en masse. Suppose a move to a new area requires a minimum of  $\\overline{m}$ people. \n",
    "\n",
    "Consider the steady-state population, and note that agents will consider moving en masse out of the initial area only if:\n",
    "\n",
    "$$\n",
    "\\frac{A}{\\overline{m}} \\geq \\frac{A}{\\overline{p}-m} \\quad \\rightarrow m \\leq \\frac{A}{2}\n",
    "$$\n",
    "\n",
    "Let's suppose that this inequality **does not hold**. This means that more than half of the steady-state population would have to leave for a mass migration to be successful. Hence, in an initial equilibrium, the population will simply stay put in its initial location. \n",
    "\n",
    "Now, with a (very small) probability $b$, a \"Bonanza\" event occurs. The resource level increases to $B>A$. Now, consider the initial location. The population is initially at $p=A$, but following the Bonanza we have:. \n",
    "\n",
    "$$\n",
    "p_{t+1} = q_tp_t = \\frac{B}{A}A=B\n",
    "$$\n",
    "\n",
    "In the subsequent period, $B$ stays as-is, or with probability $r$ goes to zero. Suppose that the latter event actually materializes. Individual utility is:\n",
    "\n",
    "$$\n",
    "u_t = \\frac{A}{B}\n",
    "$$\n",
    "\n",
    "And now, individuals might consider a mass migration. In fact, the equilibrium migration will equate utilities across the two locations, and hence:\n",
    "$$\n",
    "u'_t = \\frac{B}{m_t} = \\frac{A}{B-m_t}=u_t\n",
    "$$\n",
    "which gives:\n",
    "$$\n",
    "m^* = \\frac{B^2}{A+B}\n",
    "$$\n",
    "\n",
    "Upon migration to the new area. Since utility is now the same in both places, $u=\\frac{A+B}{B}$, population in each location is:\n",
    "\n",
    "$$\n",
    "p'_t = m_t = \\frac{B^2}{A+B}, \\quad p_t = \\frac{AB}{A+B}\n",
    "$$.  \n",
    "\n",
    "In the next period, we have:\n",
    "\n",
    "$$\n",
    "p'_{t+1} = B, \\quad p_{t+1}=A\n",
    "$$\n",
    "\n",
    "# Key Points\n",
    "\n",
    "1. The \"collapse\" of the Bonanza leads to a mass migration, which adopts the population to its initial level.\n",
    "2. The new location now has an eminent probability of collapse in the subsequent period. \n"
   ]
  },
  {
   "cell_type": "markdown",
   "metadata": {},
   "source": [
    "# Extending the migration\n",
    "\n",
    "Let's suppose we know that a single Bonanza event has occurred at time $0$. we then observe subsequent to this a migration from location $a$ to $b$ $ after $t$ units of time, and a migration from $b$ to $c$ after an additional $u$ units of time. \n",
    "\n",
    "To render things into a maximum likelihood version of the model, we first do the following, standard derivation:\n",
    "\n",
    "$$\n",
    "\n",
    "$$"
   ]
  },
  {
   "cell_type": "code",
   "execution_count": 24,
   "metadata": {
    "collapsed": false
   },
   "outputs": [],
   "source": [
    "import numpy as np\n",
    "import matplotlib.pyplot as plt\n",
    "\n",
    "%matplotlib inline\n",
    "plt.rcParams['figure.figsize'] = (10.0, 8.0)"
   ]
  },
  {
   "cell_type": "markdown",
   "metadata": {},
   "source": [
    "Let's first make a simple model of overshooting. Here, we start with population going as follows:"
   ]
  },
  {
   "cell_type": "code",
   "execution_count": 45,
   "metadata": {
    "collapsed": false
   },
   "outputs": [
    {
     "name": "stdout",
     "output_type": "stream",
     "text": [
      "here\n"
     ]
    }
   ],
   "source": [
    "Pop1 = np.zeros(50)\n",
    "Pop2 = np.zeros(50)\n",
    "Q1   = np.zeros(50)\n",
    "Q2   = np.zeros(50)\n",
    "\n",
    "b    = 1.2\n",
    "pbar = 50\n",
    "\n",
    "Pop1[0] = 1\n",
    "Pop2[0] = 1\n",
    "Q1[0]   = b\n",
    "Q2[0]   = b\n",
    "\n",
    "def qt(p, pbar, b):\n",
    "    return b*np.min( (pbar / p ,1))\n",
    "\n",
    "first_time = 0\n",
    "for t in np.arange(1, len(Pop1)):\n",
    "    Q1[t-1] = qt(Pop1[t-1], pbar, b)\n",
    "    Q2[t-1] = qt(Pop2[t-1], pbar, b)\n",
    "    Pop1[t] = Q1[t-1]*Pop1[t-1]\n",
    "    Pop2[t] = Q2[t-1]*Pop2[t-1]\n",
    "    \n",
    "    if first_time == 0 and Pop2[t] > pbar:\n",
    "        Pop2[t] = pbar\n",
    "        first_time = 1\n",
    "        print('here')\n",
    "    \n",
    "    "
   ]
  },
  {
   "cell_type": "code",
   "execution_count": 46,
   "metadata": {
    "collapsed": false
   },
   "outputs": [
    {
     "data": {
      "text/plain": [
       "array([  1.        ,   1.2       ,   1.44      ,   1.728     ,\n",
       "         2.0736    ,   2.48832   ,   2.985984  ,   3.5831808 ,\n",
       "         4.29981696,   5.15978035,   6.19173642,   7.43008371,\n",
       "         8.91610045,  10.69932054,  12.83918465,  15.40702157,\n",
       "        18.48842589,  22.18611107,  26.62333328,  31.94799994,\n",
       "        38.33759992,  46.00511991,  50.        ,  60.        ,\n",
       "        60.        ,  60.        ,  60.        ,  60.        ,\n",
       "        60.        ,  60.        ,  60.        ,  60.        ,\n",
       "        60.        ,  60.        ,  60.        ,  60.        ,\n",
       "        60.        ,  60.        ,  60.        ,  60.        ,\n",
       "        60.        ,  60.        ,  60.        ,  60.        ,\n",
       "        60.        ,  60.        ,  60.        ,  60.        ,\n",
       "        60.        ,  60.        ])"
      ]
     },
     "execution_count": 46,
     "metadata": {},
     "output_type": "execute_result"
    }
   ],
   "source": [
    "Pop2"
   ]
  },
  {
   "cell_type": "markdown",
   "metadata": {},
   "source": [
    "A simple plot of the above goes as follows;\n"
   ]
  },
  {
   "cell_type": "code",
   "execution_count": 28,
   "metadata": {
    "collapsed": false
   },
   "outputs": [
    {
     "data": {
      "image/png": "[encoded data removed]",
      "text/plain": [
       "<matplotlib.figure.Figure at 0x812f0f0>"
      ]
     },
     "metadata": {},
     "output_type": "display_data"
    }
   ],
   "source": [
    "plt.figure(1)\n",
    "plt.subplot(311)\n",
    "plt.plot(time, Pop1, lw=2)\n",
    "plt.plot(time, Pop2, lw=2)\n",
    "plt.title('Population')\n",
    "\n",
    "plt.subplot(312)\n",
    "plt.plot(time, u1, lw=2)\n",
    "plt.plot(time, u2, lw=2)\n",
    "plt.title('Per-person utility')\n",
    "\n",
    "plt.subplot(313)\n",
    "plt.plot(time, At1, lw=2)\n",
    "plt.plot(time, At2, lw=2)\n",
    "plt.title('Productivity parameter')\n",
    "\n",
    "plt.subplots_adjust(bottom=-.1)"
   ]
  },
  {
   "cell_type": "markdown",
   "metadata": {
    "collapsed": true
   },
   "source": [
    "## Bonanza events\n",
    "\n",
    "Picture the world as a grid of discrete locations or islands. Each island has some base resource level which we normalize to one. Thus, the steady-state population \n",
    "\n",
    "Let's now suppose that instead of the above, people have a chance to migrate. All locations are the same in the initial report. But if I certain segment of the population migrates, They can earn Utility:\n",
    "\n",
    "$$\n",
    "u = e^{A+B-m_{t+1} - \\kappa} \n",
    "$$\n",
    "\n",
    "The new terms are a moving cost $\\kappa$ and a moving Bonanza, $B$. How does this bonanza work? Well, we imagine it exists for each period that the new people are there, but disappears probabilistically once a new location has been occupied. \n",
    "\n",
    "According to this model, people will only migrate if:\n",
    "\n",
    "$$\n",
    "u_m>u_s \\quad \\rightarrow \\quad e^{A-p} \\leq e^{A+B-k}\n",
    "$$\n",
    "\n",
    "we therefore will assume that $k>B$. The costs of a move are greater than the expected bounty obtained "
   ]
  },
  {
   "cell_type": "code",
   "execution_count": null,
   "metadata": {
    "collapsed": true
   },
   "outputs": [],
   "source": []
  }
 ],
 "metadata": {
  "kernelspec": {
   "display_name": "Python 3",
   "language": "python",
   "name": "python3"
  },
  "language_info": {
   "codemirror_mode": {
    "name": "ipython",
    "version": 3
   },
   "file_extension": ".py",
   "mimetype": "text/x-python",
   "name": "python",
   "nbconvert_exporter": "python",
   "pygments_lexer": "ipython3",
   "version": "3.4.5"
  }
 },
 "nbformat": 4,
 "nbformat_minor": 2
}
