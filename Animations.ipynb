{
 "cells": [
  {
   "cell_type": "code",
   "execution_count": 3,
   "metadata": {},
   "outputs": [],
   "source": [
    "import pandas as pd\n",
    "import matplotlib.pyplot as plt\n",
    "import numpy as np\n",
    "from matplotlib import animation\n",
    "\n",
    "import os\n",
    "import subprocess\n",
    "\n",
    "import PyIEClasses\n",
    "import PyIETools\n",
    "\n",
    "import webbrowser\n",
    "#from PIL import Image\n",
    "#from mpl_toolkits.basemap import Basemap"
   ]
  },
  {
   "cell_type": "code",
   "execution_count": 4,
   "metadata": {},
   "outputs": [],
   "source": [
    "NDData=pd.read_pickle('IEData\\\\NaDeneDraws.pkl')"
   ]
  },
  {
   "cell_type": "code",
   "execution_count": 5,
   "metadata": {},
   "outputs": [],
   "source": [
    "os.chdir(os.getcwd() + '\\\\SavedFigures\\\\')"
   ]
  },
  {
   "cell_type": "code",
   "execution_count": 6,
   "metadata": {},
   "outputs": [],
   "source": [
    "for i in range(100):\n",
    "    NDData[i].showtree()\n",
    "    Fig = 'NDFig'+str(i)+'.png'\n",
    "    plt.savefig(Fig, bbox_inches = 'tight')\n",
    "    plt.close() "
   ]
  },
  {
   "cell_type": "markdown",
   "metadata": {},
   "source": [
    "For this block of code, we need to have `ffmpeg.exe` in the right place. I don't know what the hell this code does, but it does write our data to a movie (`.mp4`)."
   ]
  },
  {
   "cell_type": "code",
   "execution_count": 8,
   "metadata": {
    "scrolled": true
   },
   "outputs": [
    {
     "data": {
      "text/plain": [
       "0"
      ]
     },
     "execution_count": 8,
     "metadata": {},
     "output_type": "execute_result"
    }
   ],
   "source": [
    "os.system('ffmpeg -y -framerate 1/0.25 -i NDFig%d.png -c:v libx264 -r 30 NaDeneSimNew.mp4')"
   ]
  },
  {
   "cell_type": "markdown",
   "metadata": {},
   "source": [
    "Perhaps one way to deal with this is to write an html wrapper for the above movie, and then (somehow) open it - either inline or somewhere else. So:"
   ]
  },
  {
   "cell_type": "code",
   "execution_count": 9,
   "metadata": {},
   "outputs": [
    {
     "name": "stdout",
     "output_type": "stream",
     "text": [
      "Overwriting NaDeneMovie.html\n"
     ]
    }
   ],
   "source": [
    "%%writefile NaDeneMovie.html\n",
    "<html>\n",
    "    <head>\n",
    "    <title> MCMC Sampling of the Na-Dene language Group </title>\n",
    "    </head>\n",
    "    <body>\n",
    "    <video width=\"800\" height=\"800\" controls=\"controls\">\n",
    "      <source src=\"NaDeneSimNew.mp4\" type=\"video/mp4\" />\n",
    "    </video>   \n",
    "    </body>\n",
    "</html>"
   ]
  },
  {
   "cell_type": "markdown",
   "metadata": {},
   "source": [
    "This file can be opened up and the movie can be seen in any browser. It shows how the linguistic tree is converging over time to something interesting. Let's now try to go a little further, and simulate the progress of the point data as things go. This will simply require using our `latlonplot()` class method."
   ]
  },
  {
   "cell_type": "code",
   "execution_count": 9,
   "metadata": {},
   "outputs": [],
   "source": [
    "pathToVid = \"file:///\"+os.getcwd().replace('\\\\','/')+'/NaDeneMovie.html'"
   ]
  },
  {
   "cell_type": "code",
   "execution_count": 10,
   "metadata": {},
   "outputs": [
    {
     "data": {
      "text/plain": [
       "True"
      ]
     },
     "execution_count": 10,
     "metadata": {},
     "output_type": "execute_result"
    }
   ],
   "source": [
    "new = 2\n",
    "webbrowser.open(pathToVid, new=new)"
   ]
  },
  {
   "cell_type": "markdown",
   "metadata": {},
   "source": [
    "# Plotting location and tree side by side (I hope!)"
   ]
  },
  {
   "cell_type": "code",
   "execution_count": null,
   "metadata": {},
   "outputs": [],
   "source": [
    "NaDeneEx = NDData[99]\n",
    "\n",
    "NaDeneEx.RouteChooser()\n",
    "NaDeneEx.TimeInPlace()"
   ]
  },
  {
   "cell_type": "code",
   "execution_count": 11,
   "metadata": {},
   "outputs": [],
   "source": [
    "# Let's pull this code out for now and see if we can get it on a basemap. \n",
    "\n",
    "def basemapplot(Obj, Cmap = 'Reds'):\n",
    "    y = np.asarray(Obj.lat.astype(float)).flatten().tolist()\n",
    "    x = np.asarray(Obj.lon.astype(float)).flatten().tolist()\n",
    "        \n",
    "    Order=np.asarray(Obj.resolvedtree[:,-1]).astype(int).flatten()\n",
    "\n",
    "    # It might be better to reorder this elsewhere!\n",
    "        \n",
    "    y = [y[i] for i in Order]\n",
    "    x = [x[i] for i in Order]\n",
    "        \n",
    "    name = np.asarray(Obj.name).flatten().tolist()\n",
    "\n",
    "    s = [3000*n for n in Obj.timeinplace]\n",
    "\n",
    "    myfig = plt.figure()\n",
    "    mypic = myfig.add_subplot(111)\n",
    "    mypic.scatter(x, y, c=s, s=s, cmap=Cmap)\n",
    "\n",
    "def basemapplot(Obj, Cmap = 'Reds'):\n",
    "    y = np.asarray(Obj.lat.astype(float)).flatten().tolist()\n",
    "    x = np.asarray(Obj.lon.astype(float)).flatten().tolist()\n",
    "        \n",
    "    Order=np.asarray(Obj.resolvedtree[:,-1]).astype(int).flatten()\n",
    "\n",
    "    # It might be better to reorder this elsewhere!\n",
    "        \n",
    "    y = [y[i] for i in Order]\n",
    "    x = [x[i] for i in Order]\n",
    "        \n",
    "    name = np.asarray(Obj.name).flatten().tolist()\n",
    "\n",
    "    s = [3000*n for n in Obj.timeinplace]\n",
    "\n",
    "    myfig = plt.figure(figsize=(8,8))\n",
    "\n",
    "    h=3000\n",
    "\n",
    "    m = Basemap(projection='nsper',lon_0=-105,lat_0=50,\n",
    "            satellite_height=h*1000.,resolution='l')\n",
    "    m.drawcoastlines()\n",
    "    m.fillcontinents(color='lightgray', zorder=0)\n",
    "\n",
    "    m.drawparallels(np.arange(-90.,120.,30.))\n",
    "    m.drawmeridians(np.arange(0.,420.,60.))\n",
    "\n",
    "    m.scatter(x, y, s=s, c=s, cmap='Reds', latlon=True)\n",
    "    xpt,ypt = m(x,y)\n",
    "    for i, txt in enumerate(name):\n",
    "        plt.annotate(name[i], (xpt[i], ypt[i]), size = 7)\n",
    "    \n",
    "    myfig.show()\n",
    "    \n",
    "    myfig.show()"
   ]
  },
  {
   "cell_type": "code",
   "execution_count": null,
   "metadata": {},
   "outputs": [],
   "source": [
    "basemapplot(NaDeneEx)"
   ]
  },
  {
   "cell_type": "code",
   "execution_count": null,
   "metadata": {},
   "outputs": [],
   "source": [
    "fig = plt.figure(figsize=(8,8))\n",
    "\n",
    "h=3000\n",
    "\n",
    "m = Basemap(projection='nsper',lon_0=-105,lat_0=50,\n",
    "        satellite_height=h*1000.,resolution='l')\n",
    "m.drawcoastlines()\n",
    "m.fillcontinents(color='white',lake_color='aqua')\n",
    "# draw parallels and meridians.\n",
    "m.drawparallels(np.arange(-90.,120.,30.))\n",
    "m.drawmeridians(np.arange(0.,420.,60.))\n",
    "m.drawmapboundary(fill_color='aqua')\n",
    "plt.title(\"Na-Dene language groups\")\n",
    "plt.annotate('poo',(10,10))\n",
    "plt.show()"
   ]
  },
  {
   "cell_type": "code",
   "execution_count": 12,
   "metadata": {},
   "outputs": [],
   "source": [
    "def basemapplot(Obj, Cmap = 'Reds'):\n",
    "    y = np.asarray(Obj.lat.astype(float)).flatten().tolist()\n",
    "    x = np.asarray(Obj.lon.astype(float)).flatten().tolist()\n",
    "        \n",
    "    Order=np.asarray(Obj.resolvedtree[:,-1]).astype(int).flatten()\n",
    "\n",
    "    # It might be better to reorder this elsewhere!\n",
    "        \n",
    "    y = [y[i] for i in Order]\n",
    "    x = [x[i] for i in Order]\n",
    "        \n",
    "    name = np.asarray(Obj.name).flatten().tolist()\n",
    "\n",
    "    s = [3000*n for n in Obj.timeinplace]\n",
    "\n",
    "    myfig = plt.figure(figsize=(8,8))\n",
    "\n",
    "    h=3000\n",
    "\n",
    "    m = Basemap(projection='nsper',lon_0=-105,lat_0=50,\n",
    "            satellite_height=h*1000.,resolution='l')\n",
    "    m.drawcoastlines()\n",
    "    m.fillcontinents(color='lightgray', zorder=0)\n",
    "\n",
    "    m.drawparallels(np.arange(-90.,120.,30.))\n",
    "    m.drawmeridians(np.arange(0.,420.,60.))\n",
    "\n",
    "    m.scatter(x, y, s=s, c=s, cmap='Reds', latlon=True)\n",
    "    xpt,ypt = m(x,y)\n",
    "    for i, txt in enumerate(name):\n",
    "        plt.annotate(name[i], (xpt[i], ypt[i]), size = 7)\n",
    "    \n",
    "    myfig.show()"
   ]
  },
  {
   "cell_type": "code",
   "execution_count": null,
   "metadata": {},
   "outputs": [],
   "source": [
    "basemapplot(NaDeneEx)\n",
    "figToSave=plt.gcf()\n",
    "plt.savefig('test.png', bbox_inches = 'tight')\n",
    "print('Done')"
   ]
  },
  {
   "cell_type": "code",
   "execution_count": null,
   "metadata": {},
   "outputs": [],
   "source": [
    "im1 = Image.open('NDFig0.png')\n",
    "im2 = Image.open('test.png').resize(im1.size)"
   ]
  },
  {
   "cell_type": "markdown",
   "metadata": {},
   "source": [
    "We can now make a blank image and paste our two images side by side on it:"
   ]
  },
  {
   "cell_type": "code",
   "execution_count": 13,
   "metadata": {},
   "outputs": [
    {
     "ename": "NameError",
     "evalue": "name 'im1' is not defined",
     "output_type": "error",
     "traceback": [
      "\u001b[1;31m---------------------------------------------------------------------------\u001b[0m",
      "\u001b[1;31mNameError\u001b[0m                                 Traceback (most recent call last)",
      "\u001b[1;32m<ipython-input-13-6a7199f73235>\u001b[0m in \u001b[0;36m<module>\u001b[1;34m()\u001b[0m\n\u001b[1;32m----> 1\u001b[1;33m \u001b[0mblank_image\u001b[0m \u001b[1;33m=\u001b[0m \u001b[0mImage\u001b[0m\u001b[1;33m.\u001b[0m\u001b[0mnew\u001b[0m\u001b[1;33m(\u001b[0m\u001b[1;34m\"RGB\"\u001b[0m\u001b[1;33m,\u001b[0m \u001b[1;33m(\u001b[0m\u001b[0mim1\u001b[0m\u001b[1;33m.\u001b[0m\u001b[0msize\u001b[0m\u001b[1;33m[\u001b[0m\u001b[1;36m0\u001b[0m\u001b[1;33m]\u001b[0m\u001b[1;33m*\u001b[0m\u001b[1;36m2\u001b[0m\u001b[1;33m,\u001b[0m\u001b[0mim1\u001b[0m\u001b[1;33m.\u001b[0m\u001b[0msize\u001b[0m\u001b[1;33m[\u001b[0m\u001b[1;36m1\u001b[0m\u001b[1;33m]\u001b[0m\u001b[1;33m)\u001b[0m\u001b[1;33m)\u001b[0m\u001b[1;33m\u001b[0m\u001b[0m\n\u001b[0m\u001b[0;32m      2\u001b[0m \u001b[0mblank_image\u001b[0m\u001b[1;33m.\u001b[0m\u001b[0mpaste\u001b[0m\u001b[1;33m(\u001b[0m\u001b[0mim1\u001b[0m\u001b[1;33m,\u001b[0m\u001b[1;33m(\u001b[0m\u001b[1;36m0\u001b[0m\u001b[1;33m,\u001b[0m\u001b[1;36m0\u001b[0m\u001b[1;33m)\u001b[0m\u001b[1;33m)\u001b[0m\u001b[1;33m\u001b[0m\u001b[0m\n\u001b[0;32m      3\u001b[0m \u001b[0mblank_image\u001b[0m\u001b[1;33m.\u001b[0m\u001b[0mpaste\u001b[0m\u001b[1;33m(\u001b[0m\u001b[0mim2\u001b[0m\u001b[1;33m,\u001b[0m\u001b[1;33m(\u001b[0m\u001b[0mim1\u001b[0m\u001b[1;33m.\u001b[0m\u001b[0msize\u001b[0m\u001b[1;33m[\u001b[0m\u001b[1;36m0\u001b[0m\u001b[1;33m]\u001b[0m\u001b[1;33m,\u001b[0m\u001b[1;36m0\u001b[0m\u001b[1;33m)\u001b[0m\u001b[1;33m)\u001b[0m\u001b[1;33m\u001b[0m\u001b[0m\n\u001b[0;32m      4\u001b[0m \u001b[0mblank_image\u001b[0m\u001b[1;33m.\u001b[0m\u001b[0mshow\u001b[0m\u001b[1;33m(\u001b[0m\u001b[1;33m)\u001b[0m\u001b[1;33m\u001b[0m\u001b[0m\n",
      "\u001b[1;31mNameError\u001b[0m: name 'im1' is not defined"
     ]
    }
   ],
   "source": [
    "blank_image = Image.new(\"RGB\", (im1.size[0]*2,im1.size[1]))\n",
    "blank_image.paste(im1,(0,0))\n",
    "blank_image.paste(im2,(im1.size[0],0))\n",
    "blank_image.show()"
   ]
  },
  {
   "cell_type": "code",
   "execution_count": null,
   "metadata": {},
   "outputs": [],
   "source": [
    "for i in range(100):\n",
    "    NDData[i].RouteChooser()\n",
    "    NDData[i].TimeInPlace()    \n",
    "    basemapplot(NDData[i])\n",
    "    Fig = 'BMFig'+str(i)+'.png'\n",
    "    plt.savefig(Fig, bbox_inches = 'tight')\n",
    "    plt.close() "
   ]
  },
  {
   "cell_type": "markdown",
   "metadata": {
    "collapsed": true
   },
   "source": [
    "Now, run a routine that puts the two side-by-side in a sequence of figures..."
   ]
  },
  {
   "cell_type": "code",
   "execution_count": 15,
   "metadata": {
    "collapsed": true
   },
   "outputs": [],
   "source": [
    "for i in range(100):\n",
    "    image1name = 'NDFig'+str(i)+'.png'\n",
    "    image2name = 'BMFig'+str(i)+'.png'\n",
    "    im1        = Image.open(image1name)\n",
    "    im2        = Image.open(image2name).resize(im1.size)\n",
    "    blank_image = Image.new(\"RGB\", (im1.size[0]*2, im1.size[1]))\n",
    "    blank_image.paste(im1, (0,0))\n",
    "    blank_image.paste(im2, (im1.size[0], 0))\n",
    "    cfname = 'CFFig'+str(i)+'.png'\n",
    "    blank_image.save(cfname)"
   ]
  },
  {
   "cell_type": "code",
   "execution_count": 16,
   "metadata": {},
   "outputs": [
    {
     "data": {
      "text/plain": [
       "0"
      ]
     },
     "execution_count": 16,
     "metadata": {},
     "output_type": "execute_result"
    }
   ],
   "source": [
    "os.system('ffmpeg -y -framerate 1/0.25 -i CFFig%d.png -c:v libx264 -r 30 CombNaDeneSim.mp4')"
   ]
  },
  {
   "cell_type": "code",
   "execution_count": 17,
   "metadata": {},
   "outputs": [
    {
     "name": "stdout",
     "output_type": "stream",
     "text": [
      "Overwriting CombNaDeneMovie.html\n"
     ]
    }
   ],
   "source": [
    "%%writefile CombNaDeneMovie.html\n",
    "<html>\n",
    "    <head>\n",
    "    <title> MCMC Sampling of the Na-Dene language Tree with Locations </title>\n",
    "    </head>\n",
    "    <body>\n",
    "    <video width=\"1200\" height=\"800\" controls=\"controls\">\n",
    "      <source src=\"CombNaDeneSim.mp4\" type=\"video/mp4\" />\n",
    "    </video>   \n",
    "    </body>\n",
    "</html>"
   ]
  },
  {
   "cell_type": "code",
   "execution_count": 18,
   "metadata": {},
   "outputs": [
    {
     "data": {
      "text/plain": [
       "True"
      ]
     },
     "execution_count": 18,
     "metadata": {},
     "output_type": "execute_result"
    }
   ],
   "source": [
    "pathToVid = \"file:///\"+os.getcwd().replace('\\\\','/')+'/CombNaDeneMovie.html'\n",
    "new = 2\n",
    "webbrowser.open(pathToVid, new=new)"
   ]
  },
  {
   "cell_type": "code",
   "execution_count": null,
   "metadata": {
    "collapsed": true
   },
   "outputs": [],
   "source": []
  }
 ],
 "metadata": {
  "kernelspec": {
   "display_name": "Python 3",
   "language": "python",
   "name": "python3"
  },
  "language_info": {
   "codemirror_mode": {
    "name": "ipython",
    "version": 3
   },
   "file_extension": ".py",
   "mimetype": "text/x-python",
   "name": "python",
   "nbconvert_exporter": "python",
   "pygments_lexer": "ipython3",
   "version": "3.6.4"
  }
 },
 "nbformat": 4,
 "nbformat_minor": 1
}
