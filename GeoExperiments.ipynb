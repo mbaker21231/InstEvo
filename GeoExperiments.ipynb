{
 "cells": [
  {
   "cell_type": "markdown",
   "metadata": {
    "collapsed": true
   },
   "source": [
    "# Geographical Experimentation\n",
    "\n",
    "In this notebook, what we want to do is use some of our data to get an idea how we can better deploy our data using the geographical tools Python has available to us. Another thing we want to do is figure out how to use animations in Python/matplotlib.\n",
    "\n",
    "Questions:\n",
    "\n",
    "1. How do we best present the data visually?\n",
    "\n",
    "2. How do we use such data in analysis?"
   ]
  },
  {
   "cell_type": "code",
   "execution_count": null,
   "metadata": {
    "collapsed": true
   },
   "outputs": [],
   "source": []
  }
 ],
 "metadata": {
  "anaconda-cloud": {},
  "kernelspec": {
   "display_name": "Python [default]",
   "language": "python",
   "name": "python3"
  },
  "language_info": {
   "codemirror_mode": {
    "name": "ipython",
    "version": 3
   },
   "file_extension": ".py",
   "mimetype": "text/x-python",
   "name": "python",
   "nbconvert_exporter": "python",
   "pygments_lexer": "ipython3",
   "version": "3.5.2"
  }
 },
 "nbformat": 4,
 "nbformat_minor": 0
}
