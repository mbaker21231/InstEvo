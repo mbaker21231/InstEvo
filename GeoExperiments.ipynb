{
 "cells": [
  {
   "cell_type": "markdown",
   "metadata": {
    "collapsed": true
   },
   "source": [
    "# Geographical Experimentation\n",
    "\n",
    "In this notebook, what we want to do is use some of our data to get an idea how we can better deploy our data using the geographical tools Python has available to us. Another thing we want to do is figure out how to use animations in Python/matplotlib.\n",
    "\n",
    "Questions:\n",
    "\n",
    "1. How do we best present the data visually?\n",
    "\n",
    "2. How do we use such data in analysis?"
   ]
  },
  {
   "cell_type": "code",
   "execution_count": 1,
   "metadata": {
    "collapsed": true
   },
   "outputs": [],
   "source": [
    "import pandas as pd"
   ]
  },
  {
   "cell_type": "code",
   "execution_count": 3,
   "metadata": {
    "collapsed": true
   },
   "outputs": [],
   "source": [
    "NDData = pd.read_pickle('IEData\\\\MasterData.pkl')"
   ]
  },
  {
   "cell_type": "code",
   "execution_count": 6,
   "metadata": {
    "collapsed": false
   },
   "outputs": [
    {
     "data": {
      "text/plain": [
       "(104     29.17\n",
       " 310     29.53\n",
       " 3867    33.20\n",
       " 207     36.20\n",
       " 206     32.05\n",
       " 1002    31.92\n",
       " 106     34.05\n",
       " 601     23.00\n",
       " 3172    14.05\n",
       " 603     17.33\n",
       " 336     11.00\n",
       " 646     10.33\n",
       " 649     11.10\n",
       " 305     11.00\n",
       " 641     10.42\n",
       " 645     10.50\n",
       " 976     11.75\n",
       " 506      9.50\n",
       " 844      9.25\n",
       " 4532    10.25\n",
       " 682     12.00\n",
       " 4370     8.67\n",
       " 533     11.33\n",
       " 3221    10.17\n",
       " 644      9.50\n",
       " 3937    12.08\n",
       " 535     11.15\n",
       " 1096    12.42\n",
       " 591      5.42\n",
       " 588      5.50\n",
       "         ...  \n",
       " 3705    28.42\n",
       " 4249    27.50\n",
       " 1395    28.00\n",
       " 4471    32.00\n",
       " 2311    31.50\n",
       " 2147    28.95\n",
       " 1268    31.32\n",
       " 115     69.00\n",
       " 215     65.75\n",
       " 216     69.00\n",
       " 311     57.00\n",
       " 696     47.00\n",
       " 698     65.00\n",
       " 1389    57.50\n",
       " 1406    46.57\n",
       " 1538    59.00\n",
       " 1813    62.00\n",
       " 2053    56.83\n",
       " 2607    65.00\n",
       " 2941    64.00\n",
       " 3386    62.00\n",
       " 3764    57.85\n",
       " 3781    54.00\n",
       " 4046    53.00\n",
       " 4144    60.00\n",
       " 4136    59.50\n",
       " 4515    65.00\n",
       " 1067    67.00\n",
       " 3715    69.00\n",
       " 109     69.00\n",
       " Name: lat, dtype: float64, 104      25.50\n",
       " 310      -9.61\n",
       " 3867     -4.40\n",
       " 207       2.40\n",
       " 206       3.05\n",
       " 1002      5.33\n",
       " 106      -4.00\n",
       " 601       6.00\n",
       " 3172     -0.25\n",
       " 603     -16.00\n",
       " 336      11.83\n",
       " 646      13.55\n",
       " 649      13.78\n",
       " 305      13.90\n",
       " 641      13.42\n",
       " 645      13.40\n",
       " 976      22.25\n",
       " 506      15.92\n",
       " 844      15.00\n",
       " 4532     15.25\n",
       " 682       7.00\n",
       " 4370      8.08\n",
       " 533      11.25\n",
       " 3221     10.50\n",
       " 644       9.50\n",
       " 3937     10.92\n",
       " 535       9.60\n",
       " 1096     38.83\n",
       " 591      37.03\n",
       " 588      37.83\n",
       "          ...  \n",
       " 3705     96.00\n",
       " 4249     92.58\n",
       " 1395     98.33\n",
       " 4471    102.67\n",
       " 2311    102.00\n",
       " 2147    111.12\n",
       " 1268     45.95\n",
       " 115      72.00\n",
       " 215     150.83\n",
       " 216     155.00\n",
       " 311      48.00\n",
       " 696      20.00\n",
       " 698      65.00\n",
       " 1389     52.50\n",
       " 1406     26.67\n",
       " 1538     26.00\n",
       " 1813     25.00\n",
       " 2053     24.00\n",
       " 2607     82.00\n",
       " 2941     32.00\n",
       " 3386     62.00\n",
       " 3764     27.00\n",
       " 3781     44.00\n",
       " 4046     45.50\n",
       " 4144     35.00\n",
       " 4136     54.50\n",
       " 4515     55.00\n",
       " 1067     37.00\n",
       " 3715     28.00\n",
       " 109      24.00\n",
       " Name: lon, dtype: float64)"
      ]
     },
     "execution_count": 6,
     "metadata": {},
     "output_type": "execute_result"
    }
   ],
   "source": [
    "NDData.lat, NDData.lon"
   ]
  },
  {
   "cell_type": "code",
   "execution_count": null,
   "metadata": {
    "collapsed": true
   },
   "outputs": [],
   "source": []
  }
 ],
 "metadata": {
  "anaconda-cloud": {},
  "kernelspec": {
   "display_name": "Python 3",
   "language": "python",
   "name": "python3"
  },
  "language_info": {
   "codemirror_mode": {
    "name": "ipython",
    "version": 3
   },
   "file_extension": ".py",
   "mimetype": "text/x-python",
   "name": "python",
   "nbconvert_exporter": "python",
   "pygments_lexer": "ipython3",
   "version": "3.4.5"
  }
 },
 "nbformat": 4,
 "nbformat_minor": 0
}
